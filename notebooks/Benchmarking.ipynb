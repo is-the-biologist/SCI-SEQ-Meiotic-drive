{
 "cells": [
  {
   "cell_type": "markdown",
   "metadata": {},
   "source": [
    "# Purpose:\n",
    "\n",
    "I want to express the capabilities and limitations of my statistical method in relationship to SNP density and the recombination rate. These two factors will play in greatly into how well I am able to cluster individuals and classify with my HMM. In order to do this I am going to have to come up with some kind of a scheme to simulate data at different recombination rates and different SNP sub sampling. "
   ]
  },
  {
   "cell_type": "markdown",
   "metadata": {},
   "source": [
    "# Recombination rate:\n",
    "\n",
    "Recombination rate has proven to be the most important parameter for hierarchical clustering. "
   ]
  },
  {
   "cell_type": "markdown",
   "metadata": {},
   "source": [
    "# SNP density:\n",
    "\n",
    "The most important parameter for my HMM to classify segments correctly is the SNP density, or the information density. "
   ]
  },
  {
   "cell_type": "code",
   "execution_count": null,
   "metadata": {},
   "outputs": [],
   "source": []
  }
 ],
 "metadata": {
  "kernelspec": {
   "display_name": "Python 3",
   "language": "python",
   "name": "python3"
  },
  "language_info": {
   "codemirror_mode": {
    "name": "ipython",
    "version": 3
   },
   "file_extension": ".py",
   "mimetype": "text/x-python",
   "name": "python",
   "nbconvert_exporter": "python",
   "pygments_lexer": "ipython3",
   "version": "3.7.3"
  }
 },
 "nbformat": 4,
 "nbformat_minor": 2
}
