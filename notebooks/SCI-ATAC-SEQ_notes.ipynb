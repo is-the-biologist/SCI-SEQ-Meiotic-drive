{
 "cells": [
  {
   "cell_type": "markdown",
   "metadata": {},
   "source": [
    "## Purpose:\n",
    "\n",
    "Jen thinks that there might be enough data in the SCI-ATAC seq method to generate sufficient SNPs at regularly spaced enough intervals. This way the genome space we sample from is limited more and we can sample less spaces but with higher coverage/certainty.\n",
    "\n",
    "In order to simulate this data as best as I can I am going to examine some D mel ATAC seq data sets courtesy of Jen and look at where the peaks are. I am going to overlay those peaks with the SNPs from the RAL crosses and this should give some idea of where ATACseq peaks would be in a regular cross."
   ]
  },
  {
   "cell_type": "code",
   "execution_count": 1,
   "metadata": {},
   "outputs": [],
   "source": [
    "from sciAnalysis import *\n",
    "from simulSCISEQ import *"
   ]
  },
  {
   "cell_type": "code",
   "execution_count": 2,
   "metadata": {},
   "outputs": [
    {
     "name": "stdout",
     "output_type": "stream",
     "text": [
      "SNP input loaded...\n"
     ]
    }
   ],
   "source": [
    "myAnalysis = analyzeSEQ()\n",
    "snp = myAnalysis.load_SNP_array(path='', snp_array='delete.npy', encoding='latin1')"
   ]
  },
  {
   "cell_type": "code",
   "execution_count": 4,
   "metadata": {},
   "outputs": [],
   "source": [
    "def analyzePeak():\n",
    "    #Get the indices of all SNPs that are within the peaks of the atac-seq calls\n",
    "    all_snps = []\n",
    "    peak_density = [[],[],[],[],[]]\n",
    "    peak_pos = [[],[],[],[],[]]\n",
    "    \n",
    "    arms = {'chr2L':0, 'chr2LHet':0, 'chr2R':1, 'chr2RHet':1, 'chr3L':2, 'chr3LHet':2, 'chr3R':3,'chr3RHet':3,\n",
    "            'chrX':4, 'chrXHet':4}\n",
    "    atac_snp = [[], [], [], [], []]\n",
    "    with open('B04_peaks.narrowPeak', 'r') as myF:\n",
    "        myPeak = csv.reader(myF, delimiter='\\t')\n",
    "        for field in myPeak:\n",
    "            \n",
    "\n",
    "            if field[0] in arms.keys():\n",
    "                arm = arms[field[0]]\n",
    "                a = np.where(snp[0][arm][:,0] > int(field[1]))[0]\n",
    "                b = np.where(snp[0][arm][:,0] < int(field[2]))[0]\n",
    "                c = np.intersect1d(a,b)\n",
    "\n",
    "                if len(c) > 0:\n",
    "                    dist = (abs(int(field[1]) - int(field[2]))) / 100\n",
    "                    snp_density = len(c) / dist\n",
    "                    peak_density[arm].append(snp_density)\n",
    "                    \n",
    "                    if len(atac_snp[arm]) == 0:\n",
    "                        atac_snp[arm] = c\n",
    "\n",
    "                    else:\n",
    "                        atac_snp[arm] = np.union1d(atac_snp[arm], c)\n",
    "                    peak_midPoint = int(field[1]) + abs(int(field[1]) - int(field[2]))/2\n",
    "                    peak_pos[arm].append(peak_midPoint)\n",
    "        myF.close()\n",
    "    \n",
    "    \n",
    "    return atac_snp, peak_density, peak_pos\n",
    "\n",
    "def extract_ATAC(atac_peak, SNP):\n",
    "    all_cells = []\n",
    "    for cell in SNP:\n",
    "        atac_cell = []\n",
    "        for arm in range(5):\n",
    "            atac_cell.append(cell[arm][atac_peak[arm]])\n",
    "        all_cells.append(np.asarray(atac_cell))\n",
    "    all_cells = np.asarray(all_cells)\n",
    "    \n",
    "    np.save('ATAC_full.npy', all_cells)\n",
    "        "
   ]
  },
  {
   "cell_type": "code",
   "execution_count": 5,
   "metadata": {},
   "outputs": [],
   "source": [
    "peaks, density, positions = analyzePeak()\n"
   ]
  },
  {
   "cell_type": "code",
   "execution_count": 6,
   "metadata": {},
   "outputs": [],
   "source": [
    "#extract_ATAC(peaks, SNP = snp)"
   ]
  },
  {
   "cell_type": "markdown",
   "metadata": {},
   "source": [
    "The above functions will allow us to extract the relevant SNPs that I predict would be in ATACseq peaks given the ATACseq data. In order to extract the SNPs for the simulated data for a run we simply will load the SNP array we wish to extract SNP features from.\n",
    "\n",
    "So in order to streamline my simulations such that I draw simulated SNPs from the ATAC seq data set and not the entire reference genome I will simply create a new ATAC-seq reference genome from which to sample SNPs from for my simulations. When I sample off of the real genome I should use the entirety of the set of SNPs to polarize my alleles off of as there may be some regions in this data set that get sampled in my single cell data -- although it is unlikely. "
   ]
  },
  {
   "cell_type": "code",
   "execution_count": 6,
   "metadata": {},
   "outputs": [],
   "source": [
    "def atac_reference(peaks):\n",
    "    atac_ref = []\n",
    "    mySim = simulateSEQ()\n",
    "    reference = mySim.load_reference(path='/home/iskander/Documents/MEIOTIC_DRIVE/', reference='882_129.snp_reference.npy' )\n",
    "    \n",
    "    for arm in range(5):\n",
    "        atac_ref.append(reference[arm][peaks[arm]])\n",
    "    \n",
    "    atac_ref = np.asarray(atac_ref)\n",
    "    np.save('ATAC_882_129.snp_reference.npy', atac_ref)"
   ]
  },
  {
   "cell_type": "code",
   "execution_count": 13,
   "metadata": {},
   "outputs": [],
   "source": [
    "#atac_reference(peaks)"
   ]
  },
  {
   "cell_type": "markdown",
   "metadata": {},
   "source": [
    "## Analysis of peaks below:"
   ]
  },
  {
   "cell_type": "code",
   "execution_count": 7,
   "metadata": {},
   "outputs": [],
   "source": [
    "def get_Peakdist():\n",
    "    genome_space = 0\n",
    "    peak_size = []\n",
    "    peak_pos = [[],[],[],[],[]]\n",
    "    peak_ends = []\n",
    "    arms = {'chr2L':0, 'chr2LHet':0, 'chr2R':1, 'chr2RHet':1, 'chr3L':2, 'chr3LHet':2, 'chr3R':3,'chr3RHet':3,\n",
    "            'chrX':4, 'chrXHet':4}\n",
    "    with open('B04_peaks.narrowPeak', 'r') as myF:\n",
    "        myPeak = csv.reader(myF, delimiter='\\t')\n",
    "        for field in myPeak:\n",
    "            if field[0] in arms.keys():\n",
    "                dist = abs(int(field[1]) - int(field[2]))\n",
    "                peak_size.append(dist)\n",
    "                genome_space += dist\n",
    "                \n",
    "                peak_midPoint = int(field[1]) + abs(int(field[1]) - int(field[2]))/2\n",
    "                \n",
    "                peak_pos[arms[field[0]]].append(peak_midPoint)\n",
    "                peak_range = (int(field[1]), int(field[2]))\n",
    "                peak_ends.append(peak_range)\n",
    "        myF.close()\n",
    "        \n",
    "    return genome_space, peak_pos, peak_size\n",
    "\n",
    "\n",
    "def avg_distance(peak_pos):\n",
    "    peak_pos = sorted(peak_pos)\n",
    "    MP_dist = []\n",
    "    for i in range(1, len(peak_pos)):\n",
    "        distance = abs(peak_pos[i] - peak_pos[i-1]) / 1000000\n",
    "        MP_dist.append(distance)\n",
    "    return MP_dist\n"
   ]
  },
  {
   "cell_type": "code",
   "execution_count": 8,
   "metadata": {},
   "outputs": [],
   "source": [
    "gs, peakMP, peakSize = get_Peakdist() #This gets us the peak information of all peaks not just the peaks that contain SNPs"
   ]
  },
  {
   "cell_type": "code",
   "execution_count": 37,
   "metadata": {
    "scrolled": true
   },
   "outputs": [
    {
     "data": {
      "image/png": "[encoded data removed]",
      "text/plain": [
       "<Figure size 432x288 with 1 Axes>"
      ]
     },
     "metadata": {
      "needs_background": "light"
     },
     "output_type": "display_data"
    },
    {
     "data": {
      "image/png": "[encoded data removed]",
      "text/plain": [
       "<Figure size 432x288 with 1 Axes>"
      ]
     },
     "metadata": {
      "needs_background": "light"
     },
     "output_type": "display_data"
    },
    {
     "data": {
      "image/png": "[encoded data removed]",
      "text/plain": [
       "<Figure size 432x288 with 1 Axes>"
      ]
     },
     "metadata": {
      "needs_background": "light"
     },
     "output_type": "display_data"
    },
    {
     "data": {
      "image/png": "[encoded data removed]",
      "text/plain": [
       "<Figure size 432x288 with 1 Axes>"
      ]
     },
     "metadata": {
      "needs_background": "light"
     },
     "output_type": "display_data"
    },
    {
     "data": {
      "image/png": "[encoded data removed]",
      "text/plain": [
       "<Figure size 432x288 with 1 Axes>"
      ]
     },
     "metadata": {
      "needs_background": "light"
     },
     "output_type": "display_data"
    }
   ],
   "source": [
    "for i in range(5):\n",
    "    dist = avg_distance(peakMP[i])\n",
    "    sns.distplot(dist, kde=False)\n",
    "    plt.show()\n"
   ]
  },
  {
   "cell_type": "code",
   "execution_count": null,
   "metadata": {},
   "outputs": [],
   "source": [
    "sns.distplot(peakSize, kde=False, bins = 100)\n",
    "print(np.average(peakSize))\n",
    "print(scipy.stats.mode(peakSize))"
   ]
  },
  {
   "cell_type": "code",
   "execution_count": 39,
   "metadata": {},
   "outputs": [],
   "source": [
    "snp_kbp = np.asarray(density) "
   ]
  },
  {
   "cell_type": "code",
   "execution_count": 40,
   "metadata": {
    "scrolled": true
   },
   "outputs": [
    {
     "name": "stdout",
     "output_type": "stream",
     "text": [
      "0.7949655509892052 0\n"
     ]
    },
    {
     "data": {
      "image/png": "[encoded data removed]",
      "text/plain": [
       "<Figure size 432x288 with 1 Axes>"
      ]
     },
     "metadata": {
      "needs_background": "light"
     },
     "output_type": "display_data"
    },
    {
     "name": "stdout",
     "output_type": "stream",
     "text": [
      "0.7077141464952194 1\n"
     ]
    },
    {
     "data": {
      "image/png": "[encoded data removed]",
      "text/plain": [
       "<Figure size 432x288 with 1 Axes>"
      ]
     },
     "metadata": {
      "needs_background": "light"
     },
     "output_type": "display_data"
    },
    {
     "name": "stdout",
     "output_type": "stream",
     "text": [
      "0.7740358935155821 2\n"
     ]
    },
    {
     "data": {
      "image/png": "[encoded data removed]",
      "text/plain": [
       "<Figure size 432x288 with 1 Axes>"
      ]
     },
     "metadata": {
      "needs_background": "light"
     },
     "output_type": "display_data"
    },
    {
     "name": "stdout",
     "output_type": "stream",
     "text": [
      "0.629947548710734 3\n"
     ]
    },
    {
     "data": {
      "image/png": "[encoded data removed]",
      "text/plain": [
       "<Figure size 432x288 with 1 Axes>"
      ]
     },
     "metadata": {
      "needs_background": "light"
     },
     "output_type": "display_data"
    },
    {
     "name": "stdout",
     "output_type": "stream",
     "text": [
      "0.6145823498761027 4\n"
     ]
    },
    {
     "data": {
      "image/png": "[encoded data removed]",
      "text/plain": [
       "<Figure size 432x288 with 1 Axes>"
      ]
     },
     "metadata": {
      "needs_background": "light"
     },
     "output_type": "display_data"
    }
   ],
   "source": [
    "for i in range(5):\n",
    "    sns.distplot( snp_kbp[i], kde=False, bins=50)\n",
    "    print(np.average(snp_kbp[i]), i)\n",
    "    plt.show()"
   ]
  },
  {
   "cell_type": "markdown",
   "metadata": {},
   "source": [
    "### Plot of the SNP density across the peaks with SNPs"
   ]
  },
  {
   "cell_type": "code",
   "execution_count": 83,
   "metadata": {
    "scrolled": true
   },
   "outputs": [],
   "source": [
    "\n",
    "fig = plt.figure(figsize=(15,5))\n",
    "sns.lineplot( np.asarray(sorted(positions[0])) / 1000000, density[0])\n",
    "plt.ylabel('SNPs/100bp')\n",
    "plt.xlabel('Mb')\n",
    "plt.title('2L: Bulk ATACseq peak SNP density')\n",
    "plt.axhline(np.average(density[0]), linestyle='--', color='red')\n",
    "legend=['ATACseq Peaks', 'Peak Average ({0:.2f} SNPs/100bp)'.format(np.average(density[0]))]\n",
    "plt.legend(legend)\n",
    "\n",
    "plt.savefig('2L_atac_density.png', dpi=300)\n",
    "plt.close()"
   ]
  },
  {
   "cell_type": "code",
   "execution_count": 88,
   "metadata": {},
   "outputs": [
    {
     "data": {
      "image/png": "[encoded data removed]",
      "text/plain": [
       "<Figure size 432x288 with 1 Axes>"
      ]
     },
     "metadata": {
      "needs_background": "light"
     },
     "output_type": "display_data"
    }
   ],
   "source": [
    "dist = avg_distance(positions[0])\n",
    "sns.distplot(dist, kde=False)\n",
    "plt.xlabel('Distance between peaks (Mb)')\n",
    "plt.ylabel('Peak counts')\n",
    "plt.show()"
   ]
  },
  {
   "cell_type": "markdown",
   "metadata": {},
   "source": [
    "# Fix Bed files"
   ]
  },
  {
   "cell_type": "code",
   "execution_count": 40,
   "metadata": {},
   "outputs": [],
   "source": [
    "import pandas as pd\n",
    "import numpy as np"
   ]
  },
  {
   "cell_type": "code",
   "execution_count": 41,
   "metadata": {},
   "outputs": [],
   "source": [
    "peaks = pd.read_csv('/home/iskander/Documents/Barbash_lab/mDrive/ATAC/B04_peaks.narrowPeak', sep='\\t', header=None)"
   ]
  },
  {
   "cell_type": "code",
   "execution_count": 112,
   "metadata": {},
   "outputs": [],
   "source": [
    "#chrom 2\n",
    "chr2r = peaks.loc[peaks[0] == \"chr2R\"].values[:,1:3] + 23000000\n",
    "chr2h = peaks.loc[peaks[0] == \"chr2RHet\"].values[:,1:3] + 23000000\n",
    "chr2 = np.vstack((peaks.loc[peaks[0] == \"chr2L\"].values[:,1:3], \n",
    "                  peaks.loc[peaks[0] == \"chr2LHet\"].values[:,1:3],\n",
    "\n",
    "                  chr2h, chr2r\n",
    "                 ))\n",
    "\n",
    "arm = np.asarray(['2' for p in range(chr2.shape[0])])\n",
    "data1 = np.column_stack((arm, np.sort(chr2, axis=0 )))\n",
    "\n"
   ]
  },
  {
   "cell_type": "code",
   "execution_count": 114,
   "metadata": {},
   "outputs": [],
   "source": [
    "#chrom 3\n",
    "chr3r = peaks.loc[peaks[0] == \"chr3R\"].values[:,1:3] + 24500000\n",
    "chr3h = peaks.loc[peaks[0] == \"chr3RHet\"].values[:,1:3] + 24500000\n",
    "chr3 = np.vstack((peaks.loc[peaks[0] == \"chr3L\"].values[:,1:3], \n",
    "                  peaks.loc[peaks[0] == \"chr3LHet\"].values[:,1:3],\n",
    "                chr3r, chr3h\n",
    "                 ))\n",
    "\n",
    "arm = np.asarray(['3' for p in range(chr3.shape[0])])\n",
    "data2 = np.column_stack((arm, np.sort(chr3, axis=0)))"
   ]
  },
  {
   "cell_type": "code",
   "execution_count": 117,
   "metadata": {},
   "outputs": [],
   "source": [
    "#chromX\n",
    "X = np.vstack((peaks.loc[peaks[0] == \"chrX\"].values[:,1:3], \n",
    "                  peaks.loc[peaks[0] == \"chrXHet\"].values[:,1:3]))\n",
    "arm=np.asarray(['X' for p in range(X.shape[0])])\n",
    "data3 = np.column_stack((arm, np.sort(X, axis=0)))"
   ]
  },
  {
   "cell_type": "code",
   "execution_count": 118,
   "metadata": {},
   "outputs": [],
   "source": [
    "bed_matrix = np.vstack((data1, data2, data3))\n",
    "\n",
    "df = pd.DataFrame(bed_matrix)\n",
    "df.to_csv(path_or_buf='/home/iskander/Documents/Barbash_lab/mDrive/dmel_ATAC_peaks.bed', sep='\\t', \n",
    "                       columns=df,header=False, index=False)"
   ]
  },
  {
   "cell_type": "code",
   "execution_count": null,
   "metadata": {},
   "outputs": [],
   "source": []
  }
 ],
 "metadata": {
  "kernelspec": {
   "display_name": "Python 3",
   "language": "python",
   "name": "python3"
  },
  "language_info": {
   "codemirror_mode": {
    "name": "ipython",
    "version": 3
   },
   "file_extension": ".py",
   "mimetype": "text/x-python",
   "name": "python",
   "nbconvert_exporter": "python",
   "pygments_lexer": "ipython3",
   "version": "3.7.3"
  }
 },
 "nbformat": 4,
 "nbformat_minor": 2
}
