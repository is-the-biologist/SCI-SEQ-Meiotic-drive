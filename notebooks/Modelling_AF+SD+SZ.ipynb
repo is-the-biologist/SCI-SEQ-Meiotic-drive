{
 "cells": [
  {
   "cell_type": "markdown",
   "metadata": {},
   "source": [
    "# Purpose:\n",
    "\n",
    "I want to model my allele frequencies and ultimately infer the SD and SZ parameters. The first thing I can do to model this is to figure out what the uncertainty is in the allele frequencies. This is going to be based on the sequences of sampling. Then I can use this to at last use simple curve fitting to generate better SD parameters. The tough part is thinking about how SZ parameter fits in this."
   ]
  },
  {
   "cell_type": "markdown",
   "metadata": {},
   "source": [
    "## Modelling allele frequencies:\n",
    "\n",
    "There are several sampling processes that are involved in determining the error of determing the underlying allele frequencies. First, let's set up our experiment in simple terms: We have a cross between P1/P1 and P1/P2 and we are going to sample N amount of progeny. We want to know what the frequency of P2 will be in this next generation. And more concretely we want to know what the underlying distribution that generates the allele frequency is. In other words, if a certain locus has an empirical AF of .2 we want to know if this reflects the true distribution or is just noise."
   ]
  },
  {
   "cell_type": "markdown",
   "metadata": {},
   "source": [
    "### Meiosis\n",
    "The first sampling process is a biological process. It is the meiosis and generation of progeny. In this process the probability of sampling a P1, or P2 chromosome is a simple Bernouli trial, or binomial process:\n",
    "\n",
    "$Bin \\sim (p)$\n",
    "\n",
    "Where p is the probability of drawing a P2 chromosome. This probability is shifted however when we consider drive. It then becomes:\n",
    "\n",
    "$Bin \\sim (p+D)$ \n",
    "\n",
    "Where D is the strength of the drive locus. For now let's ignore this. In a binomial process the variance is simply $npq$, so let's keep that in mind."
   ]
  },
  {
   "cell_type": "markdown",
   "metadata": {},
   "source": [
    "### Sampling individuals:\n",
    "\n",
    "The second sampling process is to sample cells/individuals from our cohort of progeny. For example we have 4,000 flies that were grown and we now are going to sample ~2,000 cells from this group. The probability of sampling a cell from a given fly is essentially a sampling without replacement -- a multinomial probability distribution:\n",
    "\n",
    "$MultiN \\sim (\\pi_i)$\n",
    "\n",
    "Where each individual has a $\\pi_i$ parameter associated with the probability of sampling a cell from that individual. The $\\pi$ parameter in this pmf is a metric of how likely an individual is to be sampled, which is representative of body size differences of the flies. By this I mean that larger flies will be sampled more than smaller flies and would have a bigger $\\pi$. The body size differences are most appropriately modelled by a normal distribution:\n",
    "\n",
    "$N \\sim (\\mu, \\sigma^2)$\n",
    "\n",
    "Which means that each $\\pi_i$ is drawn from a normal distribution. Consequently, genotype dependent body size differences will generate two normal distributions with means that are shifted with respect to each other. This is an important thing I wish to get at, but for the simple first pass we ought to ignore size and segregation distortion."
   ]
  },
  {
   "cell_type": "markdown",
   "metadata": {},
   "source": [
    "### Sampling reads:\n",
    "\n",
    "The third sampling process is the actual sequencing. In this process we know that sampling an allele from a given cell is also multinomial process:\n",
    "\n",
    "$MultiN \\sim (\\pi_{P1}, \\pi_{P2}, \\pi_E)$\n",
    "\n",
    "The probability of sampling a P1, or P2 allele is dependent on whether or not the segment sampled is from a P1/P1 segment, or a P1/P2 segment. The probability of homozygosity or heterozygosity is modelled explicitly by the HMM. \n"
   ]
  },
  {
   "cell_type": "markdown",
   "metadata": {},
   "source": [
    "## Goal:\n",
    "\n",
    "The goal of the analysis is to know the underlying binomial distribution, specifically $p$. But our estimate of this parameter is dependent on both sampling of the cells and sampling of the $p$ from the cross. \n",
    "\n",
    "First I am going to try to familiarize myself with pystan to estimate $p$ from a binomial random sample."
   ]
  },
  {
   "cell_type": "code",
   "execution_count": 2,
   "metadata": {},
   "outputs": [],
   "source": [
    "import pystan\n",
    "import numpy as np"
   ]
  },
  {
   "cell_type": "code",
   "execution_count": 10,
   "metadata": {},
   "outputs": [],
   "source": [
    "model = \"\"\"\n",
    "data {\n",
    "    int<lower=0> N; // number of F1\n",
    "    vector[N] y; // bernoulli random variable\n",
    "\n",
    "}\n",
    "parameters {\n",
    "    real p;\n",
    "    \n",
    "}\n",
    "\n",
    "model {\n",
    "    \n",
    "    y ~ binom(p);\n",
    "}\n",
    "\"\"\"\n",
    "\n",
    "schools_dat = {'N': 1000,\n",
    "               'y': np.random.binomial(n=1, p=.6, size=1000),\n",
    "               }\n"
   ]
  },
  {
   "cell_type": "code",
   "execution_count": 11,
   "metadata": {},
   "outputs": [
    {
     "ename": "ValueError",
     "evalue": "Failed to parse Stan model 'anon_model_530355a74ced3ee584881cc7a68d49ca'. Error message:\nSYNTAX ERROR, MESSAGE(S) FROM PARSER:\nProbability function must end in _lpdf or _lpmf. Found distribution family = binom with no corresponding probability function binom_lpdf, binom_lpmf, or binom_log\n error in 'unknown file name' at line 14, column 17\n  -------------------------------------------------\n    12: model {\n    13:     \n    14:     y ~ binom(p);\n                        ^\n    15: }\n  -------------------------------------------------\n\n",
     "output_type": "error",
     "traceback": [
      "\u001b[0;31m---------------------------------------------------------------------------\u001b[0m",
      "\u001b[0;31mValueError\u001b[0m                                Traceback (most recent call last)",
      "\u001b[0;32m<ipython-input-11-dae5047c8dcd>\u001b[0m in \u001b[0;36m<module>\u001b[0;34m\u001b[0m\n\u001b[0;32m----> 1\u001b[0;31m \u001b[0msm\u001b[0m \u001b[0;34m=\u001b[0m \u001b[0mpystan\u001b[0m\u001b[0;34m.\u001b[0m\u001b[0mStanModel\u001b[0m\u001b[0;34m(\u001b[0m\u001b[0mmodel_code\u001b[0m\u001b[0;34m=\u001b[0m\u001b[0mmodel\u001b[0m\u001b[0;34m)\u001b[0m\u001b[0;34m\u001b[0m\u001b[0;34m\u001b[0m\u001b[0m\n\u001b[0m\u001b[1;32m      2\u001b[0m \u001b[0mfit\u001b[0m \u001b[0;34m=\u001b[0m \u001b[0msm\u001b[0m\u001b[0;34m.\u001b[0m\u001b[0msampling\u001b[0m\u001b[0;34m(\u001b[0m\u001b[0mdata\u001b[0m\u001b[0;34m=\u001b[0m\u001b[0mschools_dat\u001b[0m\u001b[0;34m,\u001b[0m \u001b[0miter\u001b[0m\u001b[0;34m=\u001b[0m\u001b[0;36m1000\u001b[0m\u001b[0;34m,\u001b[0m \u001b[0mchains\u001b[0m\u001b[0;34m=\u001b[0m\u001b[0;36m4\u001b[0m\u001b[0;34m)\u001b[0m\u001b[0;34m\u001b[0m\u001b[0;34m\u001b[0m\u001b[0m\n",
      "\u001b[0;32m~/anaconda3/lib/python3.7/site-packages/pystan/model.py\u001b[0m in \u001b[0;36m__init__\u001b[0;34m(self, file, charset, model_name, model_code, stanc_ret, include_paths, boost_lib, eigen_lib, verbose, obfuscate_model_name, extra_compile_args)\u001b[0m\n\u001b[1;32m    221\u001b[0m                                          \u001b[0mverbose\u001b[0m\u001b[0;34m=\u001b[0m\u001b[0mverbose\u001b[0m\u001b[0;34m,\u001b[0m\u001b[0;34m\u001b[0m\u001b[0;34m\u001b[0m\u001b[0m\n\u001b[1;32m    222\u001b[0m                                          \u001b[0minclude_paths\u001b[0m\u001b[0;34m=\u001b[0m\u001b[0minclude_paths\u001b[0m\u001b[0;34m,\u001b[0m\u001b[0;34m\u001b[0m\u001b[0;34m\u001b[0m\u001b[0m\n\u001b[0;32m--> 223\u001b[0;31m                                          obfuscate_model_name=obfuscate_model_name)\n\u001b[0m\u001b[1;32m    224\u001b[0m \u001b[0;34m\u001b[0m\u001b[0m\n\u001b[1;32m    225\u001b[0m         \u001b[0;32mif\u001b[0m \u001b[0;32mnot\u001b[0m \u001b[0misinstance\u001b[0m\u001b[0;34m(\u001b[0m\u001b[0mstanc_ret\u001b[0m\u001b[0;34m,\u001b[0m \u001b[0mdict\u001b[0m\u001b[0;34m)\u001b[0m\u001b[0;34m:\u001b[0m\u001b[0;34m\u001b[0m\u001b[0;34m\u001b[0m\u001b[0m\n",
      "\u001b[0;32m~/anaconda3/lib/python3.7/site-packages/pystan/api.py\u001b[0m in \u001b[0;36mstanc\u001b[0;34m(file, charset, model_code, model_name, include_paths, verbose, obfuscate_model_name)\u001b[0m\n\u001b[1;32m    165\u001b[0m             \u001b[0mmsg\u001b[0m \u001b[0;34m=\u001b[0m \u001b[0mmsg\u001b[0m\u001b[0;34m.\u001b[0m\u001b[0mencode\u001b[0m\u001b[0;34m(\u001b[0m\u001b[0;34m'ascii'\u001b[0m\u001b[0;34m,\u001b[0m \u001b[0;34m'replace'\u001b[0m\u001b[0;34m)\u001b[0m\u001b[0;34m\u001b[0m\u001b[0;34m\u001b[0m\u001b[0m\n\u001b[1;32m    166\u001b[0m         \u001b[0merror_msg\u001b[0m \u001b[0;34m=\u001b[0m \u001b[0;34m\"Failed to parse Stan model '{}'. Error message:\\n{}\"\u001b[0m\u001b[0;34m.\u001b[0m\u001b[0mformat\u001b[0m\u001b[0;34m(\u001b[0m\u001b[0mmodel_name\u001b[0m\u001b[0;34m,\u001b[0m \u001b[0mmsg\u001b[0m\u001b[0;34m)\u001b[0m\u001b[0;34m\u001b[0m\u001b[0;34m\u001b[0m\u001b[0m\n\u001b[0;32m--> 167\u001b[0;31m         \u001b[0;32mraise\u001b[0m \u001b[0mValueError\u001b[0m\u001b[0;34m(\u001b[0m\u001b[0merror_msg\u001b[0m\u001b[0;34m)\u001b[0m\u001b[0;34m\u001b[0m\u001b[0;34m\u001b[0m\u001b[0m\n\u001b[0m\u001b[1;32m    168\u001b[0m     \u001b[0;32melif\u001b[0m \u001b[0mresult\u001b[0m\u001b[0;34m[\u001b[0m\u001b[0;34m'status'\u001b[0m\u001b[0;34m]\u001b[0m \u001b[0;34m==\u001b[0m \u001b[0;36m0\u001b[0m\u001b[0;34m:\u001b[0m  \u001b[0;31m# SUCCESS_RC is 0\u001b[0m\u001b[0;34m\u001b[0m\u001b[0;34m\u001b[0m\u001b[0m\n\u001b[1;32m    169\u001b[0m         \u001b[0mlogger\u001b[0m\u001b[0;34m.\u001b[0m\u001b[0mdebug\u001b[0m\u001b[0;34m(\u001b[0m\u001b[0;34m\"Successfully parsed Stan model '{}'.\"\u001b[0m\u001b[0;34m.\u001b[0m\u001b[0mformat\u001b[0m\u001b[0;34m(\u001b[0m\u001b[0mmodel_name\u001b[0m\u001b[0;34m)\u001b[0m\u001b[0;34m)\u001b[0m\u001b[0;34m\u001b[0m\u001b[0;34m\u001b[0m\u001b[0m\n",
      "\u001b[0;31mValueError\u001b[0m: Failed to parse Stan model 'anon_model_530355a74ced3ee584881cc7a68d49ca'. Error message:\nSYNTAX ERROR, MESSAGE(S) FROM PARSER:\nProbability function must end in _lpdf or _lpmf. Found distribution family = binom with no corresponding probability function binom_lpdf, binom_lpmf, or binom_log\n error in 'unknown file name' at line 14, column 17\n  -------------------------------------------------\n    12: model {\n    13:     \n    14:     y ~ binom(p);\n                        ^\n    15: }\n  -------------------------------------------------\n\n"
     ]
    }
   ],
   "source": [
    "sm = pystan.StanModel(model_code=model)\n",
    "fit = sm.sampling(data=schools_dat, iter=1000, chains=4)"
   ]
  },
  {
   "cell_type": "code",
   "execution_count": null,
   "metadata": {},
   "outputs": [],
   "source": []
  }
 ],
 "metadata": {
  "kernelspec": {
   "display_name": "Python 3",
   "language": "python",
   "name": "python3"
  },
  "language_info": {
   "codemirror_mode": {
    "name": "ipython",
    "version": 3
   },
   "file_extension": ".py",
   "mimetype": "text/x-python",
   "name": "python",
   "nbconvert_exporter": "python",
   "pygments_lexer": "ipython3",
   "version": "3.7.3"
  }
 },
 "nbformat": 4,
 "nbformat_minor": 2
}
