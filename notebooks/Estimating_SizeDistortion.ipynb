{
 "cells": [
  {
   "cell_type": "markdown",
   "metadata": {},
   "source": [
    "# Purpose:\n",
    "\n",
    "I want to use the cluster calls to estimate the strength of size distortion given the size of clusters with a given genotype. For example, if I see that there is are many more cells be sampled from a particular individual with a particular genotype consistently then that would be a sign for size distortion. How exactly to model that I need to work out, but I can at least play around with some of this data."
   ]
  },
  {
   "cell_type": "code",
   "execution_count": 6,
   "metadata": {},
   "outputs": [],
   "source": [
    "import csv\n",
    "import pandas as pd\n",
    "import numpy as np\n",
    "import os\n",
    "import numpy as np\n",
    "import operator\n",
    "import math\n",
    "import matplotlib.pyplot as plt\n",
    "import seaborn as sns\n",
    "import time\n",
    "import sys\n",
    "from sklearn.cluster import AgglomerativeClustering\n",
    "import argparse\n",
    "from multiprocessing import Pool\n",
    "import random\n",
    "from scipy.optimize import curve_fit\n",
    "from sklearn.cluster import DBSCAN\n",
    "from sklearn.manifold import TSNE\n",
    "from sklearn.decomposition import PCA\n",
    "import sklearn.metrics as metrics\n",
    "import importlib.util\n",
    "import itertools\n",
    "from sklearn.linear_model import LogisticRegression\n",
    "from collections import Counter\n",
    "from sklearn.metrics import log_loss\n",
    "import functools\n",
    "from scipy.stats import chi2\n",
    "\n",
    "spec = importlib.util.spec_from_file_location(\"sciAnalysis\", \"/home/iskander/Documents/Barbash_lab/mDrive/sciAnalysis.py\")\n",
    "sciAnalysis = importlib.util.module_from_spec(spec)\n",
    "spec.loader.exec_module(sciAnalysis)\n",
    "\n",
    "def extrStates(states):\n",
    "    #I am attempting to conform the reading of these known labels to the way that I have produced the HMM labels\n",
    "    #within sciAnalysis so I can re-use code....\n",
    "    state_tuples = []\n",
    "    if len(states) > 1:\n",
    "        for s in range(len(states)-1):\n",
    "            state_tuples.append((states[s], states[s+1]))\n",
    "    else:\n",
    "        state_tuples.append(states[0])\n",
    "    \n",
    "    return state_tuples\n",
    "\n",
    "def readCO(tsv, path):\n",
    "    #Record only the individuals that are unique the sampling to get the true AF\n",
    "    COs = []\n",
    "    labels = []\n",
    "    add_Mb = {'2L': 0, '2R': 23000000, '3L': 0, '3R': 24500000, 'X': 0}\n",
    "    full_tsv = os.path.join(path, tsv)\n",
    "    with open(full_tsv, 'r') as myTsv:\n",
    "        TSV_reader = csv.reader(myTsv, delimiter='\\t')\n",
    "\n",
    "        index = 0\n",
    "        for field in TSV_reader:\n",
    "            #each individual will have an array of their breakpoints and their chromosome states\n",
    "            chr2 = [int(pos)/1000000 for pos in field[2].split(',') if pos != ''] + [(int(pos) + add_Mb['2R'])/1000000 for pos in field[5].split(',') if pos != '']\n",
    "            chr2_states = [int(segment) for segment in field[3].split(',')][:-1] + [int(segment) for segment in field[6].split(',')]\n",
    "            refChr2 = extrStates(states=chr2_states)\n",
    "            \n",
    "            chr3 = [int(pos)/1000000 for pos in field[8].split(',') if pos != ''] + [(int(pos) + add_Mb['3R'] )/1000000for pos in field[11].split(',') if pos != '']\n",
    "            chr3_states = [int(segment) for segment in field[9].split(',')][:-1] + [int(segment) for segment in field[12].split(',')]\n",
    "            refChr3 = extrStates(states= chr3_states)\n",
    "            \n",
    "            chrx = [int(pos)/1000000 for pos in field[14].split(',') if pos != '']\n",
    "            chrx_states = [int(segment) for segment in field[15].split(',')]\n",
    "            refChrx = extrStates(states=chrx_states)\n",
    "            \n",
    "            all_labels = [refChr2, refChr3, refChrx]\n",
    "            all_COS = [chr2, chr3, chrx]\n",
    "            COs.append(all_COS)\n",
    "            labels.append(all_labels)\n",
    "            \n",
    "            index += 1\n",
    "            \n",
    "    return COs, labels\n",
    "\n",
    "def sciAnalysis_methods(CO_data, state_labels, numpy):\n",
    "    myAnalysis = sciAnalysis.analyzeSEQ()\n",
    "    myAnalysis.polarized_samples = myAnalysis.load_SNP_array(path='/home/iskander/Documents/Barbash_lab/mDrive/SIM_DATA/',\n",
    "                                                            snp_array=numpy, encoding='latin1')\n",
    "    myAnalysis.paintedGenome = [np.concatenate((myAnalysis.polarized_samples[0][0][:, 0], myAnalysis.polarized_samples[0][1][:, 0] + 23000000)) / 1000000,\n",
    "                                np.concatenate((myAnalysis.polarized_samples[0][2][:, 0], myAnalysis.polarized_samples[0][3][:, 0] + 24500000)) / 1000000,\n",
    "                                myAnalysis.polarized_samples[0][4][:, 0] / 1000000]\n",
    "    \n",
    "    myAnalysis.rmap = pd.read_csv('/home/iskander/Documents/Barbash_lab/mDrive/dmel_2xRate.rmap.bed', sep='\\t', header=None)\n",
    "    \n",
    "    \n",
    "    SNP_pileup = []\n",
    "    for sample in range(len(state_labels)):\n",
    "        \n",
    "        SNPs = myAnalysis.paintChromosome(breakpoints=CO_data[sample], labels=state_labels[sample])\n",
    "        SNP_pileup.append(SNPs)\n",
    "    \n",
    "    for arm in range(3):\n",
    "        myAnalysis.paintedGenome[arm] = np.vstack((myAnalysis.paintedGenome[arm], np.sum(np.vstack(np.vstack(SNP_pileup)[:,arm]), axis=0) / (2*len(state_labels)))).T\n",
    "    \n",
    "    #Compute SD params\n",
    "    params, errs, AFs = myAnalysis.estimateSD_params(myAnalysis.paintedGenome)\n",
    "    \n",
    "    \n",
    "    #Do the plotting\n",
    "    with sns.axes_style('whitegrid'):\n",
    "        fig = plt.figure(figsize=(12,5))\n",
    "        sns.scatterplot(myAnalysis.paintedGenome[1][:,0], myAnalysis.paintedGenome[1][:,1],edgecolor=None, alpha=.1, color='black')\n",
    "        plt.plot(AFs[1][:,0], AFs[1][:,1], linestyle='--', color='blue')\n",
    "        plt.title('Chr3 theoretical pseudobulk')\n",
    "        plt.xlabel('Mb')\n",
    "        plt.ylabel('P2 AF')\n",
    "        plt.show()\n",
    "        plt.close()\n",
    "\n",
    "    print('Driver strength: {0:.2f}%'.format(params[1][0]*100))\n",
    "    "
   ]
  },
  {
   "cell_type": "markdown",
   "metadata": {},
   "source": [
    "## 2x recomb. rate data:\n",
    "\n",
    "I want to use the virillis recombination rate data here as it is doing the best job at being clustered and so I can at least try to solve this \"easy\" problem before I try my hand at the melanogaster problem. So I'm going to load in the posteriors to do clustering on it first."
   ]
  },
  {
   "cell_type": "code",
   "execution_count": 7,
   "metadata": {},
   "outputs": [
    {
     "ename": "FileNotFoundError",
     "evalue": "[Errno 2] No such file or directory: '/home/iskander/Documents/Barbash_lab/mDrive/SIM_DATA/SPARSE_2x_rate__HMM_posteriors.npy'",
     "output_type": "error",
     "traceback": [
      "\u001b[0;31m---------------------------------------------------------------------------\u001b[0m",
      "\u001b[0;31mFileNotFoundError\u001b[0m                         Traceback (most recent call last)",
      "\u001b[0;32m<ipython-input-7-4fc30970261f>\u001b[0m in \u001b[0;36m<module>\u001b[0;34m\u001b[0m\n\u001b[0;32m----> 1\u001b[0;31m \u001b[0mposteriors\u001b[0m \u001b[0;34m=\u001b[0m \u001b[0mnp\u001b[0m\u001b[0;34m.\u001b[0m\u001b[0mload\u001b[0m\u001b[0;34m(\u001b[0m\u001b[0;34m'/home/iskander/Documents/Barbash_lab/mDrive/SIM_DATA/SPARSE_2x_rate__HMM_posteriors.npy'\u001b[0m\u001b[0;34m)\u001b[0m\u001b[0;34m\u001b[0m\u001b[0;34m\u001b[0m\u001b[0m\n\u001b[0m\u001b[1;32m      2\u001b[0m \u001b[0;34m\u001b[0m\u001b[0m\n\u001b[1;32m      3\u001b[0m \u001b[0mcluster_pred\u001b[0m \u001b[0;34m=\u001b[0m \u001b[0mAgglomerativeClustering\u001b[0m\u001b[0;34m(\u001b[0m\u001b[0mn_clusters\u001b[0m\u001b[0;34m=\u001b[0m\u001b[0;32mNone\u001b[0m\u001b[0;34m,\u001b[0m \u001b[0mcompute_full_tree\u001b[0m\u001b[0;34m=\u001b[0m\u001b[0;32mTrue\u001b[0m\u001b[0;34m,\u001b[0m \u001b[0mdistance_threshold\u001b[0m\u001b[0;34m=\u001b[0m\u001b[0;36m20\u001b[0m\u001b[0;34m,\u001b[0m \u001b[0maffinity\u001b[0m\u001b[0;34m=\u001b[0m\u001b[0;34m'euclidean'\u001b[0m\u001b[0;34m,\u001b[0m \u001b[0mlinkage\u001b[0m\u001b[0;34m=\u001b[0m\u001b[0;34m'ward'\u001b[0m\u001b[0;34m)\u001b[0m\u001b[0;34m.\u001b[0m\u001b[0mfit_predict\u001b[0m\u001b[0;34m(\u001b[0m\u001b[0mposteriors\u001b[0m\u001b[0;34m)\u001b[0m\u001b[0;34m\u001b[0m\u001b[0;34m\u001b[0m\u001b[0m\n\u001b[1;32m      4\u001b[0m         \u001b[0;31m#cluster_pred = DBSCAN(eps=distance, min_samples=1, n_jobs=threads).fit(opt_embed).labels_\u001b[0m\u001b[0;34m\u001b[0m\u001b[0;34m\u001b[0m\u001b[0;34m\u001b[0m\u001b[0m\n\u001b[1;32m      5\u001b[0m \u001b[0;34m\u001b[0m\u001b[0m\n",
      "\u001b[0;32m~/anaconda3/lib/python3.7/site-packages/numpy/lib/npyio.py\u001b[0m in \u001b[0;36mload\u001b[0;34m(file, mmap_mode, allow_pickle, fix_imports, encoding)\u001b[0m\n\u001b[1;32m    420\u001b[0m         \u001b[0mown_fid\u001b[0m \u001b[0;34m=\u001b[0m \u001b[0;32mFalse\u001b[0m\u001b[0;34m\u001b[0m\u001b[0;34m\u001b[0m\u001b[0m\n\u001b[1;32m    421\u001b[0m     \u001b[0;32melse\u001b[0m\u001b[0;34m:\u001b[0m\u001b[0;34m\u001b[0m\u001b[0;34m\u001b[0m\u001b[0m\n\u001b[0;32m--> 422\u001b[0;31m         \u001b[0mfid\u001b[0m \u001b[0;34m=\u001b[0m \u001b[0mopen\u001b[0m\u001b[0;34m(\u001b[0m\u001b[0mos_fspath\u001b[0m\u001b[0;34m(\u001b[0m\u001b[0mfile\u001b[0m\u001b[0;34m)\u001b[0m\u001b[0;34m,\u001b[0m \u001b[0;34m\"rb\"\u001b[0m\u001b[0;34m)\u001b[0m\u001b[0;34m\u001b[0m\u001b[0;34m\u001b[0m\u001b[0m\n\u001b[0m\u001b[1;32m    423\u001b[0m         \u001b[0mown_fid\u001b[0m \u001b[0;34m=\u001b[0m \u001b[0;32mTrue\u001b[0m\u001b[0;34m\u001b[0m\u001b[0;34m\u001b[0m\u001b[0m\n\u001b[1;32m    424\u001b[0m \u001b[0;34m\u001b[0m\u001b[0m\n",
      "\u001b[0;31mFileNotFoundError\u001b[0m: [Errno 2] No such file or directory: '/home/iskander/Documents/Barbash_lab/mDrive/SIM_DATA/SPARSE_2x_rate__HMM_posteriors.npy'"
     ]
    }
   ],
   "source": [
    "posteriors = np.load('/home/iskander/Documents/Barbash_lab/mDrive/SIM_DATA/SPARSE_2x_rate__HMM_posteriors.npy')\n",
    "\n",
    "cluster_pred = AgglomerativeClustering(n_clusters=None, compute_full_tree=True, distance_threshold=20, affinity='euclidean', linkage='ward').fit_predict(posteriors)\n",
    "        #cluster_pred = DBSCAN(eps=distance, min_samples=1, n_jobs=threads).fit(opt_embed).labels_\n",
    "\n",
    "        #### Get all cluster predictions and cells into a table:\n",
    "all_clusters = {}\n",
    "for cell in range(len(cluster_pred)):\n",
    "        if cluster_pred[cell] not in all_clusters.keys():\n",
    "            all_clusters[cluster_pred[cell]] = [cell]\n",
    "        else:\n",
    "            all_clusters[cluster_pred[cell]].append(cell)\n"
   ]
  },
  {
   "cell_type": "code",
   "execution_count": 8,
   "metadata": {},
   "outputs": [
    {
     "ename": "NameError",
     "evalue": "name 'all_clusters' is not defined",
     "output_type": "error",
     "traceback": [
      "\u001b[0;31m---------------------------------------------------------------------------\u001b[0m",
      "\u001b[0;31mNameError\u001b[0m                                 Traceback (most recent call last)",
      "\u001b[0;32m<ipython-input-8-414fe7a23f31>\u001b[0m in \u001b[0;36m<module>\u001b[0;34m\u001b[0m\n\u001b[1;32m      1\u001b[0m \u001b[0;31m#get all clusters that more than one individual:\u001b[0m\u001b[0;34m\u001b[0m\u001b[0;34m\u001b[0m\u001b[0;34m\u001b[0m\u001b[0m\n\u001b[0;32m----> 2\u001b[0;31m \u001b[0mmergeable_clusters\u001b[0m \u001b[0;34m=\u001b[0m \u001b[0;34m[\u001b[0m\u001b[0mall_clusters\u001b[0m\u001b[0;34m[\u001b[0m\u001b[0mmc\u001b[0m\u001b[0;34m]\u001b[0m \u001b[0;32mfor\u001b[0m \u001b[0mmc\u001b[0m \u001b[0;32min\u001b[0m \u001b[0mall_clusters\u001b[0m\u001b[0;34m.\u001b[0m\u001b[0mkeys\u001b[0m\u001b[0;34m(\u001b[0m\u001b[0;34m)\u001b[0m \u001b[0;32mif\u001b[0m \u001b[0mlen\u001b[0m\u001b[0;34m(\u001b[0m\u001b[0mall_clusters\u001b[0m\u001b[0;34m[\u001b[0m\u001b[0mmc\u001b[0m\u001b[0;34m]\u001b[0m\u001b[0;34m)\u001b[0m \u001b[0;34m>\u001b[0m \u001b[0;36m1\u001b[0m\u001b[0;34m]\u001b[0m\u001b[0;34m\u001b[0m\u001b[0;34m\u001b[0m\u001b[0m\n\u001b[0m\u001b[1;32m      3\u001b[0m \u001b[0mall_inds\u001b[0m \u001b[0;34m=\u001b[0m \u001b[0mlist\u001b[0m\u001b[0;34m(\u001b[0m\u001b[0mitertools\u001b[0m\u001b[0;34m.\u001b[0m\u001b[0mchain\u001b[0m\u001b[0;34m.\u001b[0m\u001b[0mfrom_iterable\u001b[0m\u001b[0;34m(\u001b[0m\u001b[0mmergeable_clusters\u001b[0m\u001b[0;34m)\u001b[0m\u001b[0;34m)\u001b[0m\u001b[0;34m\u001b[0m\u001b[0;34m\u001b[0m\u001b[0m\n",
      "\u001b[0;31mNameError\u001b[0m: name 'all_clusters' is not defined"
     ]
    }
   ],
   "source": [
    "#get all clusters that more than one individual:\n",
    "mergeable_clusters = [all_clusters[mc] for mc in all_clusters.keys() if len(all_clusters[mc]) > 1]\n",
    "all_inds = list(itertools.chain.from_iterable(mergeable_clusters))"
   ]
  },
  {
   "cell_type": "code",
   "execution_count": null,
   "metadata": {},
   "outputs": [],
   "source": [
    "#As a vage attempt I'm going to compute the average posterior probability along the chromosome\n",
    "#If size distortion is driving this then there should be a strong signal within these individuals\n",
    "avg_pos = np.average(posteriors[all_inds], axis=0)\n",
    "\n",
    "plt.plot(avg_pos)\n",
    "plt.show()\n",
    "plt.close()"
   ]
  },
  {
   "cell_type": "markdown",
   "metadata": {},
   "source": [
    "The problem with this is that it's hard to tell exactly what this is telling me and which arm is what. Yes there are spikes in the P1 homozygote probability. To make real sense of this I may just have to compute the allele frequency. I could use viterbi decoding to try and do it after I impute genotypes which would likely give me pretty solid results. To test this out I'm going to use the known labels and AFs of these cluster calls first to see what signal I would get and if it would be more interpretable than this."
   ]
  },
  {
   "cell_type": "markdown",
   "metadata": {},
   "source": [
    "### Big clusters:"
   ]
  },
  {
   "cell_type": "code",
   "execution_count": null,
   "metadata": {},
   "outputs": [],
   "source": [
    "COs, labels = readCO(path='/home/iskander/Documents/Barbash_lab/mDrive/SIM_DATA/' , tsv='2x_rate_.2xSize_crossovers.tsv')\n",
    "\n",
    "CO_called = []\n",
    "labels_called = []\n",
    "for i in all_inds:\n",
    "    CO_called.append(COs[i])\n",
    "    labels_called.append(labels[i])\n",
    "\n",
    "sciAnalysis_methods(CO_data=CO_called, state_labels=labels_called)"
   ]
  },
  {
   "cell_type": "markdown",
   "metadata": {},
   "source": [
    "In this we can clearly see a very strong signal here of \"drive\" in just the individuals that are clustered. But what happens if we look at collapsed clusters?"
   ]
  },
  {
   "cell_type": "markdown",
   "metadata": {},
   "source": [
    "### Collapsed clusters:"
   ]
  },
  {
   "cell_type": "code",
   "execution_count": null,
   "metadata": {},
   "outputs": [],
   "source": [
    "collapsed_clusters = [np.random.choice(all_clusters[c]) for c in all_clusters.keys()]\n",
    "COs, labels = readCO(path='/home/iskander/Documents/Barbash_lab/mDrive/SIM_DATA/' , tsv='2x_rate_.2xSize_crossovers.tsv')\n",
    "\n",
    "CO_called = []\n",
    "labels_called = []\n",
    "for i in collapsed_clusters:\n",
    "    CO_called.append(COs[i])\n",
    "    labels_called.append(labels[i])\n",
    "\n",
    "sciAnalysis_methods(CO_data=CO_called, state_labels=labels_called)"
   ]
  },
  {
   "cell_type": "markdown",
   "metadata": {},
   "source": [
    "In collapsed clusters the signal is weaker but still present. I wonder if there is something with the ratio of these two drive estimates that could get me to the answer I seek."
   ]
  },
  {
   "cell_type": "markdown",
   "metadata": {},
   "source": [
    "## No size distortion -- 10% segregation distortion:\n",
    "\n",
    "I'm going to continue testing out what the data may look like if I have no size distortion, but have segregation distortion."
   ]
  },
  {
   "cell_type": "code",
   "execution_count": null,
   "metadata": {},
   "outputs": [],
   "source": [
    "posteriors = np.load('/home/iskander/Documents/Barbash_lab/mDrive/SIM_DATA/SPARSE_2x_SegD_HMM_posteriors.npy')\n",
    "\n",
    "cluster_pred = AgglomerativeClustering(n_clusters=None, compute_full_tree=True, distance_threshold=20, affinity='euclidean', linkage='ward').fit_predict(posteriors)\n",
    "\n",
    "        #### Get all cluster predictions and cells into a table:\n",
    "all_clusters = {}\n",
    "for cell in range(len(cluster_pred)):\n",
    "        if cluster_pred[cell] not in all_clusters.keys():\n",
    "            all_clusters[cluster_pred[cell]] = [cell]\n",
    "        else:\n",
    "            all_clusters[cluster_pred[cell]].append(cell)\n"
   ]
  },
  {
   "cell_type": "markdown",
   "metadata": {},
   "source": [
    "### Only big clusters:"
   ]
  },
  {
   "cell_type": "code",
   "execution_count": null,
   "metadata": {},
   "outputs": [],
   "source": [
    "#get all clusters that more than one individual:\n",
    "mergeable_clusters = [all_clusters[mc] for mc in all_clusters.keys() if len(all_clusters[mc]) > 1]\n",
    "all_inds = list(itertools.chain.from_iterable(mergeable_clusters))\n",
    "\n",
    "COs, labels = readCO(path='/home/iskander/Documents/Barbash_lab/mDrive/SIM_DATA/' , tsv='2x_SegD_crossovers.tsv')\n",
    "\n",
    "CO_called = []\n",
    "labels_called = []\n",
    "for i in all_inds:\n",
    "    CO_called.append(COs[i])\n",
    "    labels_called.append(labels[i])\n",
    "\n",
    "sciAnalysis_methods(CO_data=CO_called, state_labels=labels_called)"
   ]
  },
  {
   "cell_type": "markdown",
   "metadata": {},
   "source": [
    "### Collapsed clusters"
   ]
  },
  {
   "cell_type": "code",
   "execution_count": null,
   "metadata": {},
   "outputs": [],
   "source": [
    "collapsed_clusters = [np.random.choice(all_clusters[c]) for c in all_clusters.keys()]\n",
    "COs, labels = readCO(path='/home/iskander/Documents/Barbash_lab/mDrive/SIM_DATA/' , tsv='2x_SegD_crossovers.tsv')\n",
    "\n",
    "CO_called = []\n",
    "labels_called = []\n",
    "for i in collapsed_clusters:\n",
    "    CO_called.append(COs[i])\n",
    "    labels_called.append(labels[i])\n",
    "\n",
    "sciAnalysis_methods(CO_data=CO_called, state_labels=labels_called)"
   ]
  },
  {
   "cell_type": "markdown",
   "metadata": {},
   "source": [
    "An observation that I see is that when there is Seg distortion the collapsed clusters and the \"big\" clusters have similar estimates of distortion. "
   ]
  },
  {
   "cell_type": "markdown",
   "metadata": {},
   "source": [
    "## Seg & Size distortion (10%):\n",
    "\n"
   ]
  },
  {
   "cell_type": "code",
   "execution_count": null,
   "metadata": {},
   "outputs": [],
   "source": [
    "posteriors = np.load('/home/iskander/Documents/Barbash_lab/mDrive/SIM_DATA/SPARSE_2x_seg+size_HMM_posteriors.npy')\n",
    "\n",
    "cluster_pred = AgglomerativeClustering(n_clusters=None, compute_full_tree=True, distance_threshold=20, affinity='euclidean', linkage='ward').fit_predict(posteriors)\n",
    "\n",
    "        #### Get all cluster predictions and cells into a table:\n",
    "all_clusters = {}\n",
    "for cell in range(len(cluster_pred)):\n",
    "        if cluster_pred[cell] not in all_clusters.keys():\n",
    "            all_clusters[cluster_pred[cell]] = [cell]\n",
    "        else:\n",
    "            all_clusters[cluster_pred[cell]].append(cell)\n"
   ]
  },
  {
   "cell_type": "markdown",
   "metadata": {},
   "source": [
    "### Big clusters"
   ]
  },
  {
   "cell_type": "code",
   "execution_count": null,
   "metadata": {},
   "outputs": [],
   "source": [
    "#get all clusters that more than one individual:\n",
    "mergeable_clusters = [all_clusters[mc] for mc in all_clusters.keys() if len(all_clusters[mc]) > 1]\n",
    "all_inds = list(itertools.chain.from_iterable(mergeable_clusters))\n",
    "\n",
    "COs, labels = readCO(path='/home/iskander/Documents/Barbash_lab/mDrive/SIM_DATA/' , tsv='2x_seg+size_crossovers.tsv')\n",
    "\n",
    "CO_called = []\n",
    "labels_called = []\n",
    "for i in all_inds:\n",
    "    CO_called.append(COs[i])\n",
    "    labels_called.append(labels[i])\n",
    "\n",
    "sciAnalysis_methods(CO_data=CO_called, state_labels=labels_called)"
   ]
  },
  {
   "cell_type": "markdown",
   "metadata": {},
   "source": [
    "### Collapsed clusters:"
   ]
  },
  {
   "cell_type": "code",
   "execution_count": null,
   "metadata": {},
   "outputs": [],
   "source": [
    "collapsed_clusters = [np.random.choice(all_clusters[c]) for c in all_clusters.keys()]\n",
    "COs, labels = readCO(path='/home/iskander/Documents/Barbash_lab/mDrive/SIM_DATA/' , tsv='2x_seg+size_crossovers.tsv')\n",
    "\n",
    "CO_called = []\n",
    "labels_called = []\n",
    "for i in collapsed_clusters:\n",
    "    CO_called.append(COs[i])\n",
    "    labels_called.append(labels[i])\n",
    "\n",
    "sciAnalysis_methods(CO_data=CO_called, state_labels=labels_called)"
   ]
  },
  {
   "cell_type": "code",
   "execution_count": null,
   "metadata": {},
   "outputs": [],
   "source": [
    "posteriors = np.load('/home/iskander/Documents/Barbash_lab/mDrive/SIM_DATA/SPARSE_newtest_HMM_posteriors.npy')\n",
    "\n",
    "cluster_pred = AgglomerativeClustering(n_clusters=None, compute_full_tree=True, distance_threshold=20, affinity='euclidean', linkage='ward').fit_predict(posteriors)\n",
    "\n",
    "        #### Get all cluster predictions and cells into a table:\n",
    "all_clusters = {}\n",
    "for cell in range(len(cluster_pred)):\n",
    "        if cluster_pred[cell] not in all_clusters.keys():\n",
    "            all_clusters[cluster_pred[cell]] = [cell]\n",
    "        else:\n",
    "            all_clusters[cluster_pred[cell]].append(cell)\n",
    "            \n",
    "#get all clusters that more than one individual:\n",
    "mergeable_clusters = [all_clusters[mc] for mc in all_clusters.keys() if len(all_clusters[mc]) > 1]\n",
    "all_inds = list(itertools.chain.from_iterable(mergeable_clusters))\n",
    "\n",
    "COs, labels = readCO(path='/home/iskander/Documents/Barbash_lab/mDrive/SIM_DATA/' , tsv='newtest_crossovers.tsv')\n",
    "\n",
    "CO_called = []\n",
    "labels_called = []\n",
    "for i in all_inds:\n",
    "    CO_called.append(COs[i])\n",
    "    labels_called.append(labels[i])\n",
    "\n",
    "sciAnalysis_methods(CO_data=CO_called, state_labels=labels_called)\n",
    "\n",
    "collapsed_clusters = [np.random.choice(all_clusters[c]) for c in all_clusters.keys()]\n",
    "COs, labels = readCO(path='/home/iskander/Documents/Barbash_lab/mDrive/SIM_DATA/' , tsv='newtest_crossovers.tsv')\n",
    "\n",
    "CO_called = []\n",
    "labels_called = []\n",
    "for i in collapsed_clusters:\n",
    "    CO_called.append(COs[i])\n",
    "    labels_called.append(labels[i])\n",
    "\n",
    "sciAnalysis_methods(CO_data=CO_called, state_labels=labels_called)"
   ]
  },
  {
   "cell_type": "markdown",
   "metadata": {},
   "source": [
    "## Subtract size distortion parameter from segregation distorter parameter:\n",
    "\n",
    "I have a thought to subtract size distortion from the segregation distortion parameter. Given these three examples we can see the following cases: When there is no segregation distortion, but there is size distortion then the large over represented clusters will have a big distortion estimate compared to the merged clusters e.g. 15% vs 5%. In the segregation distortion, but no size distortion then both classes have roughly equal distortion estimates e.g. 12% and 10%. In the case of both segregation and size distortion the big cluster class has a higher distortion parameter than the merged clusters class by quite a large margin e.g. 25% vs. 15%. \n",
    "\n",
    "My thought is to construct a ratio of these two things so SEG/SIZE and multiply it by SEG. This could in theory work... and intuitively it kind of makes sense. However, it's a little bit heuristic and not very principled. I think there is a more statistical way of doing this, but I'm not sure what it is. \n",
    "\n",
    "In essence what I am doing is comparing two estimators and trying to determine whether the distributions that they came from are different. I could use something an LRT to try and get the answer to this question. However, once I have t"
   ]
  },
  {
   "cell_type": "code",
   "execution_count": 3,
   "metadata": {},
   "outputs": [
    {
     "name": "stdout",
     "output_type": "stream",
     "text": [
      "SNP input loaded... 2098 cells read in...\n",
      "Fitting parameters for segregation distortion inference...\n"
     ]
    },
    {
     "data": {
      "image/png": "[encoded data removed]",
      "text/plain": [
       "<Figure size 864x360 with 1 Axes>"
      ]
     },
     "metadata": {},
     "output_type": "display_data"
    },
    {
     "name": "stdout",
     "output_type": "stream",
     "text": [
      "Driver strength: 30.45%\n",
      "SNP input loaded... 2098 cells read in...\n",
      "Fitting parameters for segregation distortion inference...\n"
     ]
    },
    {
     "data": {
      "image/png": "[encoded data removed]",
      "text/plain": [
       "<Figure size 864x360 with 1 Axes>"
      ]
     },
     "metadata": {},
     "output_type": "display_data"
    },
    {
     "name": "stdout",
     "output_type": "stream",
     "text": [
      "Driver strength: 18.41%\n",
      "SNP input loaded... 2098 cells read in...\n",
      "Fitting parameters for segregation distortion inference...\n"
     ]
    },
    {
     "data": {
      "image/png": "[encoded data removed]",
      "text/plain": [
       "<Figure size 864x360 with 1 Axes>"
      ]
     },
     "metadata": {},
     "output_type": "display_data"
    },
    {
     "name": "stdout",
     "output_type": "stream",
     "text": [
      "Driver strength: 15.02%\n"
     ]
    }
   ],
   "source": [
    "posteriors = np.load('/home/iskander/Documents/Barbash_lab/mDrive/SIM_DATA/SPARSE_SZ_50_SD_10_HMM_posteriors.npy')\n",
    "\n",
    "\n",
    "cluster_pred = AgglomerativeClustering(n_clusters=None, compute_full_tree=True, distance_threshold=20, affinity='euclidean', linkage='ward').fit_predict(posteriors)\n",
    "#### Get all cluster predictions and cells into a table:\n",
    "all_clusters = {}\n",
    "for cell in range(len(cluster_pred)):\n",
    "        if cluster_pred[cell] not in all_clusters.keys():\n",
    "            all_clusters[cluster_pred[cell]] = [cell]\n",
    "        else:\n",
    "            all_clusters[cluster_pred[cell]].append(cell)\n",
    "            \n",
    "\n",
    "            \n",
    "            \n",
    "#get all clusters that more than one individual:\n",
    "mergeable_clusters = [all_clusters[mc] for mc in all_clusters.keys() if len(all_clusters[mc]) > 1]\n",
    "all_inds = list(itertools.chain.from_iterable(mergeable_clusters))\n",
    "\n",
    "COs, labels = readCO(path='/home/iskander/Documents/Barbash_lab/mDrive/SIM_DATA/' , tsv='SZ_50_SD_10_crossovers.tsv')\n",
    "\n",
    "CO_called = []\n",
    "labels_called = []\n",
    "for i in all_inds:\n",
    "    CO_called.append(COs[i])\n",
    "    labels_called.append(labels[i])\n",
    "\n",
    "sciAnalysis_methods(CO_data=CO_called, state_labels=labels_called, numpy='SPARSE_SZ_50_SD_10.npy')\n",
    "\n",
    "#Drive parameter of one individual per cluster\n",
    "collapsed_clusters = [np.random.choice(all_clusters[c]) for c in all_clusters.keys()]\n",
    "CO_called = []\n",
    "labels_called = []\n",
    "for i in collapsed_clusters:\n",
    "    CO_called.append(COs[i])\n",
    "    labels_called.append(labels[i])\n",
    "\n",
    "sciAnalysis_methods(CO_data=CO_called, state_labels=labels_called, numpy='SPARSE_SZ_50_SD_10.npy')\n",
    "\n",
    "#Get drive parameter of the individuals that are not in dense clusters\n",
    "noise_clusters = [all_clusters[mc] for mc in all_clusters.keys() if len(all_clusters[mc]) == 1]\n",
    "noisy_inds = list(itertools.chain.from_iterable(noise_clusters))\n",
    "CO_called = []\n",
    "labels_called = []\n",
    "for i in noisy_inds:\n",
    "    CO_called.append(COs[i])\n",
    "    labels_called.append(labels[i])\n",
    "\n",
    "sciAnalysis_methods(CO_data=CO_called, state_labels=labels_called, numpy='SPARSE_SZ_50_SD_10.npy')"
   ]
  },
  {
   "cell_type": "markdown",
   "metadata": {},
   "source": [
    "## Conclusions:\n",
    "\n",
    "I have tested using the ratio of the strengths from the two groups and it doesn't really seem to work. It also doesn't really have a very rigorous logic behind it. I think I will consider this approach a failure and move on to a different approach."
   ]
  },
  {
   "cell_type": "markdown",
   "metadata": {},
   "source": [
    "# Modelling size distortion:\n",
    "\n",
    "The only real way to get at this problem is to infer the strength of the size distortion by modelling the distribution where this individual was generated from. There are two Normal distributions by which we sample our individuals from. In the case of size distortion there is a shift in the mean of the distributions which bias the sampling from larger individuals with a particular genotype. This should manifest as an over representation of clustering and should differ from when the two distributions are the same. "
   ]
  },
  {
   "cell_type": "code",
   "execution_count": 12,
   "metadata": {},
   "outputs": [],
   "source": [
    "posteriors = np.load('/home/iskander/Documents/Barbash_lab/mDrive/SIM_DATA/SPARSE_SZ_10_SD_0_HMM_posteriors.npy')\n",
    "\n",
    "\n",
    "cluster_pred = AgglomerativeClustering(n_clusters=None, compute_full_tree=True, distance_threshold=20, affinity='euclidean', linkage='ward').fit_predict(posteriors)\n",
    "\n",
    "        #### Get all cluster predictions and cells into a table:\n",
    "all_clusters = {}\n",
    "for cell in range(len(cluster_pred)):\n",
    "        if cluster_pred[cell] not in all_clusters.keys():\n",
    "            all_clusters[cluster_pred[cell]] = [cell]\n",
    "        else:\n",
    "            all_clusters[cluster_pred[cell]].append(cell)\n",
    "            "
   ]
  },
  {
   "cell_type": "code",
   "execution_count": 13,
   "metadata": {},
   "outputs": [
    {
     "data": {
      "image/png": "[encoded data removed]",
      "text/plain": [
       "<Figure size 432x288 with 1 Axes>"
      ]
     },
     "metadata": {
      "needs_background": "light"
     },
     "output_type": "display_data"
    }
   ],
   "source": [
    "cluster_density = np.asarray([len(c) for c in all_clusters.values()])\n",
    "\n",
    "sns.distplot(cluster_density, kde=False)\n",
    "plt.show()\n",
    "plt.close()"
   ]
  },
  {
   "cell_type": "markdown",
   "metadata": {},
   "source": [
    "Here I have loaded the posterior probabilities for a HMM run where there is 0 SD, but 10% SZ (seg distortion size distortion). I am displaying the dsitribution of the size of clusters. In these cases there should be a slight over representation of clusters. This is because there is an increase in bias for sampling the same individual and also for sampling certain genotypes. This should also manifest as a deviation from the expected number of unique individuals given our sampling:\n",
    "\n",
    "$E = (N * (1-((N-1) / N)^k))/k$\n",
    "\n",
    "Where N is the number of flies and k is the number of cells sequenced. So since we have the total number of cells and the know the input number of flies we could try to approximate our expected proportions of unique cells."
   ]
  },
  {
   "cell_type": "code",
   "execution_count": 14,
   "metadata": {
    "scrolled": true
   },
   "outputs": [
    {
     "name": "stdout",
     "output_type": "stream",
     "text": [
      "0.8080582642356375\n"
     ]
    }
   ],
   "source": [
    "total_indivs = 4000\n",
    "total_cells = len(cluster_density)\n",
    "expect = (total_indivs * (1- ((total_indivs-1) / total_indivs)**total_cells)) / total_cells\n",
    "print(expect)"
   ]
  },
  {
   "cell_type": "markdown",
   "metadata": {},
   "source": [
    "So we expect 80% of the cells to be unique if we are sampling completely uniformly. Now what does our empirical data look like?"
   ]
  },
  {
   "cell_type": "code",
   "execution_count": 15,
   "metadata": {},
   "outputs": [
    {
     "name": "stdout",
     "output_type": "stream",
     "text": [
      "0.7391304347826086\n"
     ]
    }
   ],
   "source": [
    "empirical_unique = len(np.where(cluster_density == 1)[0]) / len(cluster_density)\n",
    "print(empirical_unique)"
   ]
  },
  {
   "cell_type": "markdown",
   "metadata": {},
   "source": [
    "We can see there is a reduction in the number of unique clusters. We must remember that our actual sampling process is not completely uniform. There are two distinct distributions that are being sampled from. Perhaps if I take the individuals who are of genotype P1 and genotype P2 and calculate the differences in their unique-ness I can use this to infer the differences in the two distributions. If I can model the relationship between the expected proportion then I could use a Bayesian approach to estimate the parameters. There ought to be a difference between the number of unique individuals that are P1 and are P2 at the centromere such that the P1 SZ locus has less uniqueness."
   ]
  },
  {
   "cell_type": "code",
   "execution_count": 16,
   "metadata": {},
   "outputs": [],
   "source": [
    "CO_df = pd.read_csv('/home/iskander/Documents/Barbash_lab/mDrive/SIM_DATA/SZ_10_SD_0_crossovers.tsv', sep='\\t', header=None)"
   ]
  },
  {
   "cell_type": "code",
   "execution_count": 17,
   "metadata": {},
   "outputs": [],
   "source": [
    "chr3 = CO_df.values[:,9]\n",
    "centromere = lambda x: int(x.split(',')[len(x.split(','))-1])\n",
    "parental_states = np.asarray(list(map(centromere, chr3)))"
   ]
  },
  {
   "cell_type": "code",
   "execution_count": 18,
   "metadata": {},
   "outputs": [
    {
     "name": "stdout",
     "output_type": "stream",
     "text": [
      "[1 0 0 ... 1 0 0]\n"
     ]
    }
   ],
   "source": [
    "print(parental_states)"
   ]
  },
  {
   "cell_type": "markdown",
   "metadata": {},
   "source": [
    "Using the labelled data from the simulator I have retrieved the identities of the parental status at the centromere for all individuals. Now I need to seperate the data into clusters for each set of P1 or P2 labels. Then I can see how many non-unique cells there are for P1 and P2 containing cells."
   ]
  },
  {
   "cell_type": "code",
   "execution_count": 19,
   "metadata": {},
   "outputs": [],
   "source": [
    "P1_clusters = cluster_pred[np.where(parental_states == 0)]\n",
    "P2_clusters = cluster_pred[np.where(parental_states == 1)]"
   ]
  },
  {
   "cell_type": "code",
   "execution_count": 20,
   "metadata": {},
   "outputs": [],
   "source": [
    "def tabulate_clusters(clusters):\n",
    "    #Turn a np array of cluster labels into a table that contains the IDs of the cells in each cluster\n",
    "    table = {}\n",
    "    for cell in range(len(clusters)):\n",
    "            if clusters[cell] not in table.keys():\n",
    "                table[clusters[cell]] = [cell]\n",
    "            else:\n",
    "                table[clusters[cell]].append(cell)\n",
    "   \n",
    "    cluster_density = np.asarray([len(c) for c in table.values()]) #compute a 1d array of the size of each cluster\n",
    "    \n",
    "    #compute the number of clusters that have only 1 individual:\n",
    "    unique = len(np.where(cluster_density == 1)[0]) / len(cluster_density)\n",
    "    \n",
    "    return unique\n",
    "\n",
    "def labels(dataframe, cluster_pred, chromosome=1):\n",
    "    CO_df = pd.read_csv(dataframe, sep='\\t', header=None)\n",
    "    \n",
    "    chrom_arm = [3,9,15]\n",
    "    chr3 = CO_df.values[:,chrom_arm[chromosome]]\n",
    "    centromere = lambda x: int(x.split(',')[len(x.split(','))-1])\n",
    "    parental_states = np.asarray(list(map(centromere, chr3)))\n",
    "    \n",
    "    P1_clusters = cluster_pred[np.where(parental_states == 0)]\n",
    "    P2_clusters = cluster_pred[np.where(parental_states == 1)]\n",
    "    \n",
    "    return P1_clusters, P2_clusters    "
   ]
  },
  {
   "cell_type": "code",
   "execution_count": 21,
   "metadata": {},
   "outputs": [],
   "source": [
    "P1 = tabulate_clusters(P1_clusters)\n",
    "P2 = tabulate_clusters(P2_clusters)"
   ]
  },
  {
   "cell_type": "code",
   "execution_count": 22,
   "metadata": {},
   "outputs": [
    {
     "name": "stdout",
     "output_type": "stream",
     "text": [
      "0.714765100671141 0.7639680729760547\n"
     ]
    }
   ],
   "source": [
    "print(P1, P2)"
   ]
  },
  {
   "cell_type": "markdown",
   "metadata": {},
   "source": [
    "Okay so as we can clearly see the P2 clusters are much closer to the expectation of .8 than the P1 clusters. Now let's see what happens in situations where there is no size distortion."
   ]
  },
  {
   "cell_type": "code",
   "execution_count": 23,
   "metadata": {},
   "outputs": [],
   "source": [
    "posteriors = np.load('/home/iskander/Documents/Barbash_lab/mDrive/SIM_DATA/SPARSE_SZ_0_SD_10_HMM_posteriors.npy')\n",
    "cluster_pred = AgglomerativeClustering(n_clusters=None, compute_full_tree=True, distance_threshold=20, affinity='euclidean', linkage='ward').fit_predict(posteriors)"
   ]
  },
  {
   "cell_type": "code",
   "execution_count": 24,
   "metadata": {},
   "outputs": [
    {
     "ename": "TypeError",
     "evalue": "labels() missing 1 required positional argument: 'cluster_pred'",
     "output_type": "error",
     "traceback": [
      "\u001b[0;31m---------------------------------------------------------------------------\u001b[0m",
      "\u001b[0;31mTypeError\u001b[0m                                 Traceback (most recent call last)",
      "\u001b[0;32m<ipython-input-24-47d85c1e3126>\u001b[0m in \u001b[0;36m<module>\u001b[0;34m\u001b[0m\n\u001b[1;32m      1\u001b[0m \u001b[0;32mfor\u001b[0m \u001b[0mch\u001b[0m \u001b[0;32min\u001b[0m \u001b[0mrange\u001b[0m\u001b[0;34m(\u001b[0m\u001b[0;36m3\u001b[0m\u001b[0;34m)\u001b[0m\u001b[0;34m:\u001b[0m\u001b[0;34m\u001b[0m\u001b[0;34m\u001b[0m\u001b[0m\n\u001b[0;32m----> 2\u001b[0;31m     \u001b[0mP1\u001b[0m\u001b[0;34m,\u001b[0m \u001b[0mP2\u001b[0m \u001b[0;34m=\u001b[0m \u001b[0mlabels\u001b[0m\u001b[0;34m(\u001b[0m\u001b[0mchromosome\u001b[0m\u001b[0;34m=\u001b[0m\u001b[0mch\u001b[0m\u001b[0;34m,\u001b[0m \u001b[0mdataframe\u001b[0m\u001b[0;34m=\u001b[0m\u001b[0;34m'/home/iskander/Documents/Barbash_lab/mDrive/SIM_DATA/SZ_0_SD_10_crossovers.tsv'\u001b[0m\u001b[0;34m)\u001b[0m\u001b[0;34m\u001b[0m\u001b[0;34m\u001b[0m\u001b[0m\n\u001b[0m\u001b[1;32m      3\u001b[0m     \u001b[0mP1_uniq\u001b[0m \u001b[0;34m=\u001b[0m \u001b[0mtabulate_clusters\u001b[0m\u001b[0;34m(\u001b[0m\u001b[0mP1\u001b[0m\u001b[0;34m)\u001b[0m\u001b[0;34m\u001b[0m\u001b[0;34m\u001b[0m\u001b[0m\n\u001b[1;32m      4\u001b[0m     \u001b[0mP2_uniq\u001b[0m \u001b[0;34m=\u001b[0m \u001b[0mtabulate_clusters\u001b[0m\u001b[0;34m(\u001b[0m\u001b[0mP2\u001b[0m\u001b[0;34m)\u001b[0m\u001b[0;34m\u001b[0m\u001b[0;34m\u001b[0m\u001b[0m\n\u001b[1;32m      5\u001b[0m     \u001b[0mall_uniq\u001b[0m \u001b[0;34m=\u001b[0m \u001b[0mtabulate_clusters\u001b[0m\u001b[0;34m(\u001b[0m\u001b[0mcluster_pred\u001b[0m\u001b[0;34m)\u001b[0m\u001b[0;34m\u001b[0m\u001b[0;34m\u001b[0m\u001b[0m\n",
      "\u001b[0;31mTypeError\u001b[0m: labels() missing 1 required positional argument: 'cluster_pred'"
     ]
    }
   ],
   "source": [
    "for ch in range(3):\n",
    "    P1, P2 = labels(chromosome=ch, dataframe='/home/iskander/Documents/Barbash_lab/mDrive/SIM_DATA/SZ_0_SD_10_crossovers.tsv')\n",
    "    P1_uniq = tabulate_clusters(P1)\n",
    "    P2_uniq = tabulate_clusters(P2)\n",
    "    all_uniq = tabulate_clusters(cluster_pred)\n",
    "    chroms = ['2', '3', 'X']\n",
    "    print('Chromosome:{0}'.format(chroms[ch]))\n",
    "    print(P1_uniq, P2_uniq, all_uniq)"
   ]
  },
  {
   "cell_type": "markdown",
   "metadata": {},
   "source": [
    "When there is no size distortion there is not as a stark as a difference and the difference I do see could be due to just noise. Now I'd like to see when I have large differences in SZ (50%) so I can look at the edge cases."
   ]
  },
  {
   "cell_type": "code",
   "execution_count": null,
   "metadata": {},
   "outputs": [],
   "source": [
    "posteriors = np.load('/home/iskander/Documents/Barbash_lab/mDrive/SIM_DATA/SPARSE_SZ_50_SD_10_HMM_posteriors.npy')\n",
    "cluster_pred = AgglomerativeClustering(n_clusters=None, compute_full_tree=True, distance_threshold=20, affinity='euclidean', linkage='ward').fit_predict(posteriors)"
   ]
  },
  {
   "cell_type": "code",
   "execution_count": null,
   "metadata": {},
   "outputs": [],
   "source": [
    "for ch in range(3):\n",
    "    P1, P2 = labels(chromosome=ch, dataframe='/home/iskander/Documents/Barbash_lab/mDrive/SIM_DATA/SZ_50_SD_10_crossovers.tsv')\n",
    "    P1_uniq = tabulate_clusters(P1)\n",
    "    P2_uniq = tabulate_clusters(P2)\n",
    "    all_uniq = tabulate_clusters(cluster_pred)\n",
    "    chroms = ['2', '3', 'X']\n",
    "    print('Chromosome:{0}'.format(chroms[ch]))\n",
    "    print(P1_uniq, P2_uniq, all_uniq)"
   ]
  },
  {
   "cell_type": "markdown",
   "metadata": {},
   "source": [
    "The outcome seems to be that the stronger the SZ the starker the difference between the proportion of unique cells of P1 and P2 labelled centromere. And the signal is very much strongly seen on chromosome 3 where the SZ locus is. "
   ]
  },
  {
   "cell_type": "code",
   "execution_count": null,
   "metadata": {},
   "outputs": [],
   "source": [
    "posteriors = np.load('/home/iskander/Documents/Barbash_lab/mDrive/SIM_DATA/SPARSE_SZ_10_SD_0_HMM_posteriors.npy')\n",
    "cluster_pred = AgglomerativeClustering(n_clusters=None, compute_full_tree=True, distance_threshold=20, affinity='euclidean', linkage='ward').fit_predict(posteriors)\n",
    "\n",
    "for ch in range(3):\n",
    "    P1, P2 = labels(chromosome=ch, dataframe='/home/iskander/Documents/Barbash_lab/mDrive/SIM_DATA/SZ_10_SD_0_crossovers.tsv')\n",
    "    P1_uniq = tabulate_clusters(P1)\n",
    "    P2_uniq = tabulate_clusters(P2)\n",
    "    all_uniq = tabulate_clusters(cluster_pred)\n",
    "    chroms = ['2', '3', 'X']\n",
    "    print('Chromosome:{0}'.format(chroms[ch]))\n",
    "    print(P1_uniq, P2_uniq, all_uniq)"
   ]
  },
  {
   "cell_type": "markdown",
   "metadata": {},
   "source": [
    "Looking at the entire genome when the SZ is 10 and there is no SD we can see that on Chr3 there is this signal of non-uniqueness, but the signal is not super clean honestly. I think there may be some issues here with the fact that sampling of the chromosomes is not completely independent. If the individuals with Chr3 P1 are oversampled then whatever chromosome that is linked to them will also be oversampled. And although the probability of having any of the chromosomes would be equal due to the limitted sampling their will be some variance there. I think I ought to be able to get around this by perhaps dividing them in genotypic classes.\n",
    "\n",
    "\n",
    "I have figured out that the model by which cells are sampled from the homegonate is a mutinomial where each $\\pi_i$ is proportional to the body size of the individual so our model for the sampling process is:\n",
    "\n",
    "$MultiN \\sim (\\pi_i)$ \n",
    "\n",
    "Where each $\\pi_i$ is draw from a normal distribution dependent on the genotype. I think if we estimate the parameters of our multinomial from our clustering info then we might be able to derive the two normal distributions that the genotypes are drawn from. The maximum likelihood estimator for the multinomial is simply:\n",
    "\n",
    "$\\hat{\\pi_i} = \\frac{p_i}{N} $, where $p_i$ is the number of times an individual is seen in our sample and $N$ is the sample size. Perhaps it would be better to use Bayesian approaches here, but I'd have to think about my priors and that's a lot of work."
   ]
  },
  {
   "cell_type": "code",
   "execution_count": null,
   "metadata": {},
   "outputs": [],
   "source": [
    "#ML estimation of our pi_i's:\n",
    "\n",
    "def est_param(cluster_pred):\n",
    "    multiN_params = np.zeros(shape=(max(cluster_pred)+1))\n",
    "    \n",
    "    for e in cluster_pred:\n",
    "        \n",
    "        multiN_params[e] += 1\n",
    "    multiN_params = multiN_params / np.sum(multiN_params)\n",
    "    \n",
    "    return multiN_params\n",
    "\n",
    "#pi_params = est_param(cluster_pred)    \n",
    "\n",
    "def get_cluster_sizes(cluster_pred):\n",
    "    \n",
    "    c = Counter(cluster_pred)\n",
    "    sizes = np.asarray(list(c.values()))\n",
    "\n",
    "    \n",
    "    return sizes"
   ]
  },
  {
   "cell_type": "code",
   "execution_count": null,
   "metadata": {},
   "outputs": [],
   "source": [
    "def plot_pi(pi_params):\n",
    "    pi_table = Counter(pi_params)\n",
    "    pi, counts = zip(*pi_table.items())\n",
    "    pi = np.asarray(pi)\n",
    "    counts = np.asarray(counts)\n",
    "    normed_counts = counts / np.sum(counts)\n",
    "    sns.barplot(pi.round(decimals=5), normed_counts)\n",
    "    #plt.xticks(rotation=45)\n",
    "    plt.title('Cluster size distributions')\n",
    "    plt.xlabel('Cluster size')\n",
    "    plt.ylabel('Density')\n",
    "    plt.show()\n",
    "    plt.close()\n",
    "\n"
   ]
  },
  {
   "cell_type": "code",
   "execution_count": null,
   "metadata": {},
   "outputs": [],
   "source": [
    "plot_pi(pi_params)"
   ]
  },
  {
   "cell_type": "markdown",
   "metadata": {},
   "source": [
    "Once we plot out the categories of each $\\hat{\\pi}$ estimator we can see the distribution of the cluster sizes reflected in the estimator distributions. The cluster with one individual are in the highest density with a $\\hat{\\pi} \\sim0.00043$, and the larger cluster sizes have higher probabilities. I suspect that if I were to break up this array into the P1 and P2 classes for the chromosome 3 centromere I would see that the P1 SZ cells will have a proportionally fatter tail than the P2 cells. Rather than estimating the parameters it is equivalent for us to simply compute the counts of cluster size."
   ]
  },
  {
   "cell_type": "code",
   "execution_count": null,
   "metadata": {},
   "outputs": [],
   "source": [
    "#Get chr3 labels:\n",
    "P1, P2 = labels(chromosome=1, dataframe='/home/iskander/Documents/Barbash_lab/mDrive/SIM_DATA/SZ_10_SD_0_crossovers.tsv')\n",
    "#P1 cluster sizes\n",
    "P1_pi = get_cluster_sizes(P1)\n",
    "plot_pi(P1_pi)\n",
    "\n",
    "#P2 cluster sizes:\n",
    "P2_pi = get_cluster_sizes(P2)\n",
    "plot_pi(P2_pi)"
   ]
  },
  {
   "cell_type": "markdown",
   "metadata": {},
   "source": [
    "So this is less strong as I'd have hoped. I was really expecting a a stronger truncation or reduction in the tail. There does seem to be some difference, though. Perhaps this would be enough to get infer the size parameters."
   ]
  },
  {
   "cell_type": "markdown",
   "metadata": {},
   "source": [
    "# Predicting size dependent genotypes through logistic regression:\n",
    "\n",
    "I had an idea that I could use a logistic regression on all genotypes to find loci that are linked to increased size. This would work similar to a GWAS or QTL analysis, but the phenotype being inferred here would be the cluster size of the individuals. A problem I can forsee with this is that the phenotypes will be skewed heavily toward clusters of 1, with some tails. This may make detecting causative loci difficult, but It's worth a shot honestly. If this works it can be used to detect loci that are linked to increased cluster size which would be a proxy for size differences. \n",
    "\n",
    "The classes in the multinomial regression are values between 1, and max(cluster_size). The result of this analysis should be a number of genotypes that are predicted to be associated with increased cluster size. So for this analysis we ought to analyze each genotype which can take two classes:\n",
    "\n",
    "P1/P1 or P1/P2 - P1, or P2 for short. We can do a simple 0 and 1 encoding for this and perform a GWAS-like analysis. We can use our labelled data set to ensure we would be getting the correct result in a perfect information scenario and then we'll implement it with the Viterbi decoding."
   ]
  },
  {
   "cell_type": "code",
   "execution_count": 25,
   "metadata": {},
   "outputs": [],
   "source": [
    "def getSNP_Vector(CO_data, state_labels, numpy):\n",
    "    myAnalysis = sciAnalysis.analyzeSEQ()\n",
    "    myAnalysis.polarized_samples = myAnalysis.load_SNP_array(path='/home/iskander/Documents/Barbash_lab/mDrive/SIM_DATA/',\n",
    "                                                            snp_array=numpy, encoding='latin1')\n",
    "    myAnalysis.paintedGenome = [np.concatenate((myAnalysis.polarized_samples[0][0][:, 0], myAnalysis.polarized_samples[0][1][:, 0] + 23000000)) / 1000000,\n",
    "                                np.concatenate((myAnalysis.polarized_samples[0][2][:, 0], myAnalysis.polarized_samples[0][3][:, 0] + 24500000)) / 1000000,\n",
    "                                myAnalysis.polarized_samples[0][4][:, 0] / 1000000]\n",
    "    \n",
    "    myAnalysis.rmap = pd.read_csv('/home/iskander/Documents/Barbash_lab/mDrive/dmel_2xRate.rmap.bed', sep='\\t', header=None)\n",
    "    \n",
    "    \n",
    "    SNP_pileup = []\n",
    "    for sample in range(len(state_labels)):\n",
    "        \n",
    "        SNPs = myAnalysis.paintChromosome(breakpoints=CO_data[sample], labels=state_labels[sample])\n",
    "        SNP_pileup.append(SNPs)\n",
    "    \n",
    "    return SNP_pileup\n",
    "\n",
    "def cluster_table(cluster_pred):\n",
    "            #### Get all cluster predictions and cells into a table:\n",
    "    all_clusters = {}\n",
    "    for cell in range(len(cluster_pred)):\n",
    "            if cluster_pred[cell] not in all_clusters.keys():\n",
    "                all_clusters[cluster_pred[cell]] = [cell]\n",
    "            else:\n",
    "                all_clusters[cluster_pred[cell]].append(cell)\n",
    "    return all_clusters"
   ]
  },
  {
   "cell_type": "code",
   "execution_count": 26,
   "metadata": {},
   "outputs": [
    {
     "name": "stdout",
     "output_type": "stream",
     "text": [
      "SNP input loaded... 2343 cells read in...\n"
     ]
    }
   ],
   "source": [
    "CO, labels = readCO(tsv='SZ_10_SD_0_crossovers.tsv', \n",
    "                    path='/home/iskander/Documents/Barbash_lab/mDrive/SIM_DATA/')\n",
    "pileups = getSNP_Vector(CO_data=CO,\n",
    "             state_labels=labels, \n",
    "              numpy='/home/iskander/Documents/Barbash_lab/mDrive/SIM_DATA/SPARSE_SZ_10_SD_0.npy')"
   ]
  },
  {
   "cell_type": "code",
   "execution_count": 27,
   "metadata": {},
   "outputs": [],
   "source": [
    "table = cluster_table(cluster_pred)\n",
    "flat_clusters = [np.random.choice(cluster) for cluster in table.values() if len(cluster)] "
   ]
  },
  {
   "cell_type": "code",
   "execution_count": 28,
   "metadata": {},
   "outputs": [],
   "source": [
    "#Join the SNP pileup structure\n",
    "genome = []\n",
    "for chrom in range(3):\n",
    "    arm = []\n",
    "    for cell in flat_clusters:\n",
    "        if len(arm) == 0:\n",
    "            arm = pileups[cell][chrom]\n",
    "        else:\n",
    "            arm = np.vstack((arm, pileups[cell][chrom]))\n",
    "    genome.append(arm)\n"
   ]
  },
  {
   "cell_type": "code",
   "execution_count": 29,
   "metadata": {},
   "outputs": [],
   "source": [
    "#Get the \"phenotypes\" for each of the cells:\n",
    "phenotype_table = {}\n",
    "c_size = Counter(cluster_pred)\n",
    "for clust_key in table.keys():\n",
    "    for cell in table[clust_key]:\n",
    "        phenotype_table[cell] = c_size[clust_key]"
   ]
  },
  {
   "cell_type": "code",
   "execution_count": 30,
   "metadata": {},
   "outputs": [],
   "source": [
    "#Get the phenotype for only our cells of interest:\n",
    "cell_phenotypes = []\n",
    "for cell in flat_clusters:\n",
    "    cell_phenotypes.append(phenotype_table[cell])"
   ]
  },
  {
   "cell_type": "markdown",
   "metadata": {},
   "source": [
    "Now we have constructed an array of SNP calls that will be our independent variables, and our cluster size phenotype that will be our dependent variable. Let's now attempt to implement a Multinomial regression model to  look for associations in the phenotype. But first I will plot out some basic Genotype v. Phenotype plots:"
   ]
  },
  {
   "cell_type": "code",
   "execution_count": 31,
   "metadata": {},
   "outputs": [
    {
     "data": {
      "image/png": "[encoded data removed]",
      "text/plain": [
       "<Figure size 432x288 with 1 Axes>"
      ]
     },
     "metadata": {},
     "output_type": "display_data"
    }
   ],
   "source": [
    "genotype = genome[0][:,200]\n",
    "with sns.axes_style('whitegrid'):\n",
    "    sns.scatterplot(y=cell_phenotypes, x=genotype, edgecolor=None, alpha=.1)\n",
    "    plt.ylabel('Cluster size')\n",
    "    plt.xlabel('Genotype')\n",
    "    plt.show()\n",
    "    plt.close()"
   ]
  },
  {
   "cell_type": "markdown",
   "metadata": {},
   "source": [
    "This plot doesn't really tell us much. It just shows us the distribution of the data more or less. Although with how ordinal the data is its kinda hard to see densities."
   ]
  },
  {
   "cell_type": "code",
   "execution_count": 32,
   "metadata": {},
   "outputs": [],
   "source": [
    "genotype = genome[0][:,200].reshape(-1,1)\n",
    "\n",
    "glm = LogisticRegression(solver='lbfgs', multi_class='multinomial').fit(X=genotype, y=cell_phenotypes)"
   ]
  },
  {
   "cell_type": "code",
   "execution_count": 33,
   "metadata": {},
   "outputs": [],
   "source": [
    "\n",
    "pred_pheno = glm.predict_proba(genotype)\n",
    "alt = log_loss(y_true=cell_phenotypes, y_pred=pred_pheno, normalize=False)"
   ]
  },
  {
   "cell_type": "code",
   "execution_count": 34,
   "metadata": {},
   "outputs": [],
   "source": [
    "#Generate the null hypothesis:\n",
    "size_table = Counter(cell_phenotypes)\n",
    "\n",
    "null_prob = np.zeros(shape=(len(cell_phenotypes), 5))\n",
    "for _class in size_table.keys():\n",
    "    null_prob[:,_class-1] = size_table[_class]/len(cell_phenotypes)\n"
   ]
  },
  {
   "cell_type": "markdown",
   "metadata": {},
   "source": [
    "To do the likelihood ratio test of this model using this structure I have gleaned from some notes around the internet of implementations in python that I can use the log loss functions to get the log likelihood of the model. But I need to get the null hypothesis. I think that the null hypothesis would be to use the actual proportions seen in the phenotypic data.\n",
    "\n",
    "e.g. In the binary classification case if I had a vector: [1,0,1,1,0]; then my null probablity for 0 and 1 respectively would be [2/5, 3/5] For each of the genotypes. I think this makes sense and I'll try it out"
   ]
  },
  {
   "cell_type": "code",
   "execution_count": 35,
   "metadata": {},
   "outputs": [],
   "source": [
    "null = log_loss(y_true=cell_phenotypes, y_pred=null_prob, normalize=False)"
   ]
  },
  {
   "cell_type": "code",
   "execution_count": 36,
   "metadata": {},
   "outputs": [],
   "source": [
    "#LRT\n",
    "df = 1\n",
    "G = -2 * (alt - null)\n",
    "p_value = chi2.sf(G, df)"
   ]
  },
  {
   "cell_type": "code",
   "execution_count": 37,
   "metadata": {},
   "outputs": [
    {
     "name": "stdout",
     "output_type": "stream",
     "text": [
      "0.06956249970303735\n"
     ]
    }
   ],
   "source": [
    "print(p_value)"
   ]
  },
  {
   "cell_type": "markdown",
   "metadata": {},
   "source": [
    "This seems to be giving some reasonable results. Although I am unsure as to what are the correct degrees of freedom for this test. I think I simply have 2 parameters in my alternate model and 1 parameter in my null model meaning that my LRT has 1 dof. Now let's go ahead and wrap it into a function and let it rip."
   ]
  },
  {
   "cell_type": "code",
   "execution_count": 51,
   "metadata": {},
   "outputs": [],
   "source": [
    "def multiN_LRT(genotype, phenotype, df=1):\n",
    "    \n",
    "    #reformat genotype data:\n",
    "    genotype = genotype.reshape(-1,1)\n",
    "    \n",
    "    glm = LogisticRegression(penalty='none', solver='newton-cg', multi_class='multinomial').fit(X=genotype, y=phenotype)\n",
    "    \n",
    "    #Get log loss for alternate hypothesis\n",
    "    pred_pheno = glm.predict_proba(genotype)\n",
    "    alt_log_likelihood = log_loss(y_true=phenotype, y_pred=pred_pheno, normalize=False)\n",
    "    \n",
    "    #get log likelihood for null model:\n",
    "    size_table = Counter(phenotype)\n",
    "\n",
    "    null_prob = np.zeros(shape=(len(phenotype), max(phenotype)))\n",
    "    for _class in size_table.keys():\n",
    "        null_prob[:,_class-1] = size_table[_class]/len(phenotype)\n",
    "    \n",
    "    null_log_likelihood = log_loss(y_true=phenotype, y_pred=null_prob, normalize=False)\n",
    "    \n",
    "    L = -2 * (alt_log_likelihood - null_log_likelihood)\n",
    "    p = chi2.sf(L, df)\n",
    "    \n",
    "    return p\n",
    "\n",
    "def calc_P_val(chromosome, cell_phenotypes, coordinates, chrom_name):\n",
    "    p_arr = []\n",
    "    for position in range(chromosome.shape[1]):\n",
    "        p = multiN_LRT(genotype=chromosome[:,position], phenotype=cell_phenotypes)\n",
    "        p_arr.append(p)\n",
    "    log_p = -np.log10(np.asarray(p_arr))\n",
    "    bonferonni = -np.log10(0.05/len(coordinates))\n",
    "    fig = plt.figure(figsize=(12.5,5))\n",
    "\n",
    "    with sns.axes_style('whitegrid'):\n",
    "        sns.scatterplot(x=coordinates, y=log_p, edgecolor=None, alpha=.25)\n",
    "        plt.xlabel('Mb')\n",
    "        plt.ylabel('-log10(p)')\n",
    "        plt.axhline(bonferonni, linestyle='--',c='green')\n",
    "        plt.title(chrom_name)\n",
    "        plt.show()\n",
    "        plt.close()\n",
    "    return log_p"
   ]
  },
  {
   "cell_type": "code",
   "execution_count": 35,
   "metadata": {},
   "outputs": [
    {
     "name": "stdout",
     "output_type": "stream",
     "text": [
      "SNP input loaded... 2343 cells read in...\n"
     ]
    }
   ],
   "source": [
    "myAnalysis = sciAnalysis.analyzeSEQ()\n",
    "myAnalysis.polarized_samples = myAnalysis.load_SNP_array(path='/home/iskander/Documents/Barbash_lab/mDrive/SIM_DATA/',\n",
    "                                                                snp_array='/home/iskander/Documents/Barbash_lab/mDrive/SIM_DATA/SPARSE_SZ_10_SD_0.npy', encoding='latin1')\n",
    "myAnalysis.paintedGenome = [np.concatenate((myAnalysis.polarized_samples[0][0][:, 0], myAnalysis.polarized_samples[0][1][:, 0] + 23000000)) / 1000000,\n",
    "                                    np.concatenate((myAnalysis.polarized_samples[0][2][:, 0], myAnalysis.polarized_samples[0][3][:, 0] + 24500000)) / 1000000,\n",
    "                                    myAnalysis.polarized_samples[0][4][:, 0] / 1000000]"
   ]
  },
  {
   "cell_type": "markdown",
   "metadata": {},
   "source": [
    "## MultiN regression results:\n",
    "\n",
    "So, we can actually see that this kind of works. Chr2 and ChrX do not show any strong signatures of genotypes being associated with cluster size. But in Chr3 we see this much stronger association to cluster size that is linked with our centromere. Which is exactly what you would expect. The p-value doesn't break the bonferonni correction, but I think that's okay. The pattern is still there regardless and it seems to map this size dependent locus quite well. I'm going to test this out with other data sets to see if this is reproducible/not a fluke. "
   ]
  },
  {
   "cell_type": "markdown",
   "metadata": {},
   "source": [
    "# SZ locus mapping:\n",
    "\n",
    "To verify my result of the MultiN regression I am going to perform the clustering and phenotypic analysis for different SD and SZ parameters."
   ]
  },
  {
   "cell_type": "markdown",
   "metadata": {},
   "source": [
    "## SZ 0 and SD 10:\n",
    "For this test we expect no association seen in the Manhattan-esque plot."
   ]
  },
  {
   "cell_type": "code",
   "execution_count": 49,
   "metadata": {},
   "outputs": [],
   "source": [
    "def collect_genome(posteriors_file, TSV_file):\n",
    "    \n",
    "    data_path = '/home/iskander/Documents/Barbash_lab/mDrive/SIM_DATA/'\n",
    "    posteriors = np.load(os.path.join(data_path, posteriors_file))\n",
    "    \n",
    "    cluster_pred = AgglomerativeClustering(n_clusters=None, compute_full_tree=True, distance_threshold=20, affinity='euclidean', linkage='ward').fit_predict(posteriors)\n",
    "    CO, s_labels = readCO(tsv=TSV_file, \n",
    "                    path='/home/iskander/Documents/Barbash_lab/mDrive/SIM_DATA/')\n",
    "    pileups = getSNP_Vector(CO_data=CO,\n",
    "                 state_labels=s_labels, \n",
    "                  numpy='/home/iskander/Documents/Barbash_lab/mDrive/SIM_DATA/SPARSE_SZ_10_SD_0.npy')\n",
    "\n",
    "    table = cluster_table(cluster_pred)\n",
    "    flat_clusters = [np.random.choice(cluster) for cluster in table.values() if len(cluster)] \n",
    "\n",
    "    #Join the SNP pileup structure\n",
    "    genome = []\n",
    "    for chrom in range(3):\n",
    "        arm = []\n",
    "        for cell in flat_clusters:\n",
    "            if len(arm) == 0:\n",
    "                arm = pileups[cell][chrom]\n",
    "            else:\n",
    "                arm = np.vstack((arm, pileups[cell][chrom]))\n",
    "        genome.append(arm)\n",
    "\n",
    "\n",
    "    #Get the \"phenotypes\" for each of the cells:\n",
    "    phenotype_table = {}\n",
    "    c_size = Counter(cluster_pred)\n",
    "    for clust_key in table.keys():\n",
    "        for cell in table[clust_key]:\n",
    "            phenotype_table[cell] = c_size[clust_key]\n",
    "\n",
    "    #Get the phenotype for only our cells of interest:\n",
    "    cell_phenotypes = []\n",
    "    for cell in flat_clusters:\n",
    "        cell_phenotypes.append(phenotype_table[cell])\n",
    "        \n",
    "    return cell_phenotypes, genome"
   ]
  },
  {
   "cell_type": "code",
   "execution_count": 45,
   "metadata": {},
   "outputs": [
    {
     "name": "stdout",
     "output_type": "stream",
     "text": [
      "SNP input loaded... 2343 cells read in...\n"
     ]
    }
   ],
   "source": [
    "phenotypes, genotypes = collect_genome(posteriors_file='SPARSE_SZ_0_SD_10_HMM_posteriors.npy', TSV_file='SZ_0_SD_10_crossovers.tsv')"
   ]
  },
  {
   "cell_type": "code",
   "execution_count": 52,
   "metadata": {
    "scrolled": true
   },
   "outputs": [
    {
     "data": {
      "image/png": "[encoded data removed]",
      "text/plain": [
       "<Figure size 900x360 with 1 Axes>"
      ]
     },
     "metadata": {
      "needs_background": "light"
     },
     "output_type": "display_data"
    },
    {
     "data": {
      "image/png": "[encoded data removed]",
      "text/plain": [
       "<Figure size 900x360 with 1 Axes>"
      ]
     },
     "metadata": {
      "needs_background": "light"
     },
     "output_type": "display_data"
    },
    {
     "ename": "KeyboardInterrupt",
     "evalue": "",
     "output_type": "error",
     "traceback": [
      "\u001b[0;31m---------------------------------------------------------------------------\u001b[0m",
      "\u001b[0;31mKeyboardInterrupt\u001b[0m                         Traceback (most recent call last)",
      "\u001b[0;32m<ipython-input-52-6c577f83d9b2>\u001b[0m in \u001b[0;36m<module>\u001b[0;34m\u001b[0m\n\u001b[1;32m      3\u001b[0m \u001b[0;32mfor\u001b[0m \u001b[0mchrom\u001b[0m \u001b[0;32min\u001b[0m \u001b[0mrange\u001b[0m\u001b[0;34m(\u001b[0m\u001b[0;36m3\u001b[0m\u001b[0;34m)\u001b[0m\u001b[0;34m:\u001b[0m\u001b[0;34m\u001b[0m\u001b[0;34m\u001b[0m\u001b[0m\n\u001b[1;32m      4\u001b[0m     calc_P_val(chromosome=genotypes[chrom], chrom_name=chrom_names[chrom], \n\u001b[0;32m----> 5\u001b[0;31m                cell_phenotypes=phenotypes, coordinates=myAnalysis.paintedGenome[chrom])\n\u001b[0m",
      "\u001b[0;32m<ipython-input-51-290dda153a5c>\u001b[0m in \u001b[0;36mcalc_P_val\u001b[0;34m(chromosome, cell_phenotypes, coordinates, chrom_name)\u001b[0m\n\u001b[1;32m     27\u001b[0m     \u001b[0mp_arr\u001b[0m \u001b[0;34m=\u001b[0m \u001b[0;34m[\u001b[0m\u001b[0;34m]\u001b[0m\u001b[0;34m\u001b[0m\u001b[0;34m\u001b[0m\u001b[0m\n\u001b[1;32m     28\u001b[0m     \u001b[0;32mfor\u001b[0m \u001b[0mposition\u001b[0m \u001b[0;32min\u001b[0m \u001b[0mrange\u001b[0m\u001b[0;34m(\u001b[0m\u001b[0mchromosome\u001b[0m\u001b[0;34m.\u001b[0m\u001b[0mshape\u001b[0m\u001b[0;34m[\u001b[0m\u001b[0;36m1\u001b[0m\u001b[0;34m]\u001b[0m\u001b[0;34m)\u001b[0m\u001b[0;34m:\u001b[0m\u001b[0;34m\u001b[0m\u001b[0;34m\u001b[0m\u001b[0m\n\u001b[0;32m---> 29\u001b[0;31m         \u001b[0mp\u001b[0m \u001b[0;34m=\u001b[0m \u001b[0mmultiN_LRT\u001b[0m\u001b[0;34m(\u001b[0m\u001b[0mgenotype\u001b[0m\u001b[0;34m=\u001b[0m\u001b[0mchromosome\u001b[0m\u001b[0;34m[\u001b[0m\u001b[0;34m:\u001b[0m\u001b[0;34m,\u001b[0m\u001b[0mposition\u001b[0m\u001b[0;34m]\u001b[0m\u001b[0;34m,\u001b[0m \u001b[0mphenotype\u001b[0m\u001b[0;34m=\u001b[0m\u001b[0mcell_phenotypes\u001b[0m\u001b[0;34m)\u001b[0m\u001b[0;34m\u001b[0m\u001b[0;34m\u001b[0m\u001b[0m\n\u001b[0m\u001b[1;32m     30\u001b[0m         \u001b[0mp_arr\u001b[0m\u001b[0;34m.\u001b[0m\u001b[0mappend\u001b[0m\u001b[0;34m(\u001b[0m\u001b[0mp\u001b[0m\u001b[0;34m)\u001b[0m\u001b[0;34m\u001b[0m\u001b[0;34m\u001b[0m\u001b[0m\n\u001b[1;32m     31\u001b[0m     \u001b[0mlog_p\u001b[0m \u001b[0;34m=\u001b[0m \u001b[0;34m-\u001b[0m\u001b[0mnp\u001b[0m\u001b[0;34m.\u001b[0m\u001b[0mlog10\u001b[0m\u001b[0;34m(\u001b[0m\u001b[0mnp\u001b[0m\u001b[0;34m.\u001b[0m\u001b[0masarray\u001b[0m\u001b[0;34m(\u001b[0m\u001b[0mp_arr\u001b[0m\u001b[0;34m)\u001b[0m\u001b[0;34m)\u001b[0m\u001b[0;34m\u001b[0m\u001b[0;34m\u001b[0m\u001b[0m\n",
      "\u001b[0;32m<ipython-input-51-290dda153a5c>\u001b[0m in \u001b[0;36mmultiN_LRT\u001b[0;34m(genotype, phenotype, df)\u001b[0m\n\u001b[1;32m      4\u001b[0m     \u001b[0mgenotype\u001b[0m \u001b[0;34m=\u001b[0m \u001b[0mgenotype\u001b[0m\u001b[0;34m.\u001b[0m\u001b[0mreshape\u001b[0m\u001b[0;34m(\u001b[0m\u001b[0;34m-\u001b[0m\u001b[0;36m1\u001b[0m\u001b[0;34m,\u001b[0m\u001b[0;36m1\u001b[0m\u001b[0;34m)\u001b[0m\u001b[0;34m\u001b[0m\u001b[0;34m\u001b[0m\u001b[0m\n\u001b[1;32m      5\u001b[0m \u001b[0;34m\u001b[0m\u001b[0m\n\u001b[0;32m----> 6\u001b[0;31m     \u001b[0mglm\u001b[0m \u001b[0;34m=\u001b[0m \u001b[0mLogisticRegression\u001b[0m\u001b[0;34m(\u001b[0m\u001b[0mpenalty\u001b[0m\u001b[0;34m=\u001b[0m\u001b[0;34m'none'\u001b[0m\u001b[0;34m,\u001b[0m \u001b[0msolver\u001b[0m\u001b[0;34m=\u001b[0m\u001b[0;34m'newton-cg'\u001b[0m\u001b[0;34m,\u001b[0m \u001b[0mmulti_class\u001b[0m\u001b[0;34m=\u001b[0m\u001b[0;34m'multinomial'\u001b[0m\u001b[0;34m)\u001b[0m\u001b[0;34m.\u001b[0m\u001b[0mfit\u001b[0m\u001b[0;34m(\u001b[0m\u001b[0mX\u001b[0m\u001b[0;34m=\u001b[0m\u001b[0mgenotype\u001b[0m\u001b[0;34m,\u001b[0m \u001b[0my\u001b[0m\u001b[0;34m=\u001b[0m\u001b[0mphenotype\u001b[0m\u001b[0;34m)\u001b[0m\u001b[0;34m\u001b[0m\u001b[0;34m\u001b[0m\u001b[0m\n\u001b[0m\u001b[1;32m      7\u001b[0m \u001b[0;34m\u001b[0m\u001b[0m\n\u001b[1;32m      8\u001b[0m     \u001b[0;31m#Get log loss for alternate hypothesis\u001b[0m\u001b[0;34m\u001b[0m\u001b[0;34m\u001b[0m\u001b[0;34m\u001b[0m\u001b[0m\n",
      "\u001b[0;32m~/anaconda3/lib/python3.7/site-packages/sklearn/linear_model/logistic.py\u001b[0m in \u001b[0;36mfit\u001b[0;34m(self, X, y, sample_weight)\u001b[0m\n\u001b[1;32m   1604\u001b[0m                       \u001b[0mpenalty\u001b[0m\u001b[0;34m=\u001b[0m\u001b[0mpenalty\u001b[0m\u001b[0;34m,\u001b[0m \u001b[0mmax_squared_sum\u001b[0m\u001b[0;34m=\u001b[0m\u001b[0mmax_squared_sum\u001b[0m\u001b[0;34m,\u001b[0m\u001b[0;34m\u001b[0m\u001b[0;34m\u001b[0m\u001b[0m\n\u001b[1;32m   1605\u001b[0m                       sample_weight=sample_weight)\n\u001b[0;32m-> 1606\u001b[0;31m             for class_, warm_start_coef_ in zip(classes_, warm_start_coef))\n\u001b[0m\u001b[1;32m   1607\u001b[0m \u001b[0;34m\u001b[0m\u001b[0m\n\u001b[1;32m   1608\u001b[0m         \u001b[0mfold_coefs_\u001b[0m\u001b[0;34m,\u001b[0m \u001b[0m_\u001b[0m\u001b[0;34m,\u001b[0m \u001b[0mn_iter_\u001b[0m \u001b[0;34m=\u001b[0m \u001b[0mzip\u001b[0m\u001b[0;34m(\u001b[0m\u001b[0;34m*\u001b[0m\u001b[0mfold_coefs_\u001b[0m\u001b[0;34m)\u001b[0m\u001b[0;34m\u001b[0m\u001b[0;34m\u001b[0m\u001b[0m\n",
      "\u001b[0;32m~/anaconda3/lib/python3.7/site-packages/joblib/parallel.py\u001b[0m in \u001b[0;36m__call__\u001b[0;34m(self, iterable)\u001b[0m\n\u001b[1;32m    919\u001b[0m             \u001b[0;31m# remaining jobs.\u001b[0m\u001b[0;34m\u001b[0m\u001b[0;34m\u001b[0m\u001b[0;34m\u001b[0m\u001b[0m\n\u001b[1;32m    920\u001b[0m             \u001b[0mself\u001b[0m\u001b[0;34m.\u001b[0m\u001b[0m_iterating\u001b[0m \u001b[0;34m=\u001b[0m \u001b[0;32mFalse\u001b[0m\u001b[0;34m\u001b[0m\u001b[0;34m\u001b[0m\u001b[0m\n\u001b[0;32m--> 921\u001b[0;31m             \u001b[0;32mif\u001b[0m \u001b[0mself\u001b[0m\u001b[0;34m.\u001b[0m\u001b[0mdispatch_one_batch\u001b[0m\u001b[0;34m(\u001b[0m\u001b[0miterator\u001b[0m\u001b[0;34m)\u001b[0m\u001b[0;34m:\u001b[0m\u001b[0;34m\u001b[0m\u001b[0;34m\u001b[0m\u001b[0m\n\u001b[0m\u001b[1;32m    922\u001b[0m                 \u001b[0mself\u001b[0m\u001b[0;34m.\u001b[0m\u001b[0m_iterating\u001b[0m \u001b[0;34m=\u001b[0m \u001b[0mself\u001b[0m\u001b[0;34m.\u001b[0m\u001b[0m_original_iterator\u001b[0m \u001b[0;32mis\u001b[0m \u001b[0;32mnot\u001b[0m \u001b[0;32mNone\u001b[0m\u001b[0;34m\u001b[0m\u001b[0;34m\u001b[0m\u001b[0m\n\u001b[1;32m    923\u001b[0m \u001b[0;34m\u001b[0m\u001b[0m\n",
      "\u001b[0;32m~/anaconda3/lib/python3.7/site-packages/joblib/parallel.py\u001b[0m in \u001b[0;36mdispatch_one_batch\u001b[0;34m(self, iterator)\u001b[0m\n\u001b[1;32m    757\u001b[0m                 \u001b[0;32mreturn\u001b[0m \u001b[0;32mFalse\u001b[0m\u001b[0;34m\u001b[0m\u001b[0;34m\u001b[0m\u001b[0m\n\u001b[1;32m    758\u001b[0m             \u001b[0;32melse\u001b[0m\u001b[0;34m:\u001b[0m\u001b[0;34m\u001b[0m\u001b[0;34m\u001b[0m\u001b[0m\n\u001b[0;32m--> 759\u001b[0;31m                 \u001b[0mself\u001b[0m\u001b[0;34m.\u001b[0m\u001b[0m_dispatch\u001b[0m\u001b[0;34m(\u001b[0m\u001b[0mtasks\u001b[0m\u001b[0;34m)\u001b[0m\u001b[0;34m\u001b[0m\u001b[0;34m\u001b[0m\u001b[0m\n\u001b[0m\u001b[1;32m    760\u001b[0m                 \u001b[0;32mreturn\u001b[0m \u001b[0;32mTrue\u001b[0m\u001b[0;34m\u001b[0m\u001b[0;34m\u001b[0m\u001b[0m\n\u001b[1;32m    761\u001b[0m \u001b[0;34m\u001b[0m\u001b[0m\n",
      "\u001b[0;32m~/anaconda3/lib/python3.7/site-packages/joblib/parallel.py\u001b[0m in \u001b[0;36m_dispatch\u001b[0;34m(self, batch)\u001b[0m\n\u001b[1;32m    714\u001b[0m         \u001b[0;32mwith\u001b[0m \u001b[0mself\u001b[0m\u001b[0;34m.\u001b[0m\u001b[0m_lock\u001b[0m\u001b[0;34m:\u001b[0m\u001b[0;34m\u001b[0m\u001b[0;34m\u001b[0m\u001b[0m\n\u001b[1;32m    715\u001b[0m             \u001b[0mjob_idx\u001b[0m \u001b[0;34m=\u001b[0m \u001b[0mlen\u001b[0m\u001b[0;34m(\u001b[0m\u001b[0mself\u001b[0m\u001b[0;34m.\u001b[0m\u001b[0m_jobs\u001b[0m\u001b[0;34m)\u001b[0m\u001b[0;34m\u001b[0m\u001b[0;34m\u001b[0m\u001b[0m\n\u001b[0;32m--> 716\u001b[0;31m             \u001b[0mjob\u001b[0m \u001b[0;34m=\u001b[0m \u001b[0mself\u001b[0m\u001b[0;34m.\u001b[0m\u001b[0m_backend\u001b[0m\u001b[0;34m.\u001b[0m\u001b[0mapply_async\u001b[0m\u001b[0;34m(\u001b[0m\u001b[0mbatch\u001b[0m\u001b[0;34m,\u001b[0m \u001b[0mcallback\u001b[0m\u001b[0;34m=\u001b[0m\u001b[0mcb\u001b[0m\u001b[0;34m)\u001b[0m\u001b[0;34m\u001b[0m\u001b[0;34m\u001b[0m\u001b[0m\n\u001b[0m\u001b[1;32m    717\u001b[0m             \u001b[0;31m# A job can complete so quickly than its callback is\u001b[0m\u001b[0;34m\u001b[0m\u001b[0;34m\u001b[0m\u001b[0;34m\u001b[0m\u001b[0m\n\u001b[1;32m    718\u001b[0m             \u001b[0;31m# called before we get here, causing self._jobs to\u001b[0m\u001b[0;34m\u001b[0m\u001b[0;34m\u001b[0m\u001b[0;34m\u001b[0m\u001b[0m\n",
      "\u001b[0;32m~/anaconda3/lib/python3.7/site-packages/joblib/_parallel_backends.py\u001b[0m in \u001b[0;36mapply_async\u001b[0;34m(self, func, callback)\u001b[0m\n\u001b[1;32m    180\u001b[0m     \u001b[0;32mdef\u001b[0m \u001b[0mapply_async\u001b[0m\u001b[0;34m(\u001b[0m\u001b[0mself\u001b[0m\u001b[0;34m,\u001b[0m \u001b[0mfunc\u001b[0m\u001b[0;34m,\u001b[0m \u001b[0mcallback\u001b[0m\u001b[0;34m=\u001b[0m\u001b[0;32mNone\u001b[0m\u001b[0;34m)\u001b[0m\u001b[0;34m:\u001b[0m\u001b[0;34m\u001b[0m\u001b[0;34m\u001b[0m\u001b[0m\n\u001b[1;32m    181\u001b[0m         \u001b[0;34m\"\"\"Schedule a func to be run\"\"\"\u001b[0m\u001b[0;34m\u001b[0m\u001b[0;34m\u001b[0m\u001b[0m\n\u001b[0;32m--> 182\u001b[0;31m         \u001b[0mresult\u001b[0m \u001b[0;34m=\u001b[0m \u001b[0mImmediateResult\u001b[0m\u001b[0;34m(\u001b[0m\u001b[0mfunc\u001b[0m\u001b[0;34m)\u001b[0m\u001b[0;34m\u001b[0m\u001b[0;34m\u001b[0m\u001b[0m\n\u001b[0m\u001b[1;32m    183\u001b[0m         \u001b[0;32mif\u001b[0m \u001b[0mcallback\u001b[0m\u001b[0;34m:\u001b[0m\u001b[0;34m\u001b[0m\u001b[0;34m\u001b[0m\u001b[0m\n\u001b[1;32m    184\u001b[0m             \u001b[0mcallback\u001b[0m\u001b[0;34m(\u001b[0m\u001b[0mresult\u001b[0m\u001b[0;34m)\u001b[0m\u001b[0;34m\u001b[0m\u001b[0;34m\u001b[0m\u001b[0m\n",
      "\u001b[0;32m~/anaconda3/lib/python3.7/site-packages/joblib/_parallel_backends.py\u001b[0m in \u001b[0;36m__init__\u001b[0;34m(self, batch)\u001b[0m\n\u001b[1;32m    547\u001b[0m         \u001b[0;31m# Don't delay the application, to avoid keeping the input\u001b[0m\u001b[0;34m\u001b[0m\u001b[0;34m\u001b[0m\u001b[0;34m\u001b[0m\u001b[0m\n\u001b[1;32m    548\u001b[0m         \u001b[0;31m# arguments in memory\u001b[0m\u001b[0;34m\u001b[0m\u001b[0;34m\u001b[0m\u001b[0;34m\u001b[0m\u001b[0m\n\u001b[0;32m--> 549\u001b[0;31m         \u001b[0mself\u001b[0m\u001b[0;34m.\u001b[0m\u001b[0mresults\u001b[0m \u001b[0;34m=\u001b[0m \u001b[0mbatch\u001b[0m\u001b[0;34m(\u001b[0m\u001b[0;34m)\u001b[0m\u001b[0;34m\u001b[0m\u001b[0;34m\u001b[0m\u001b[0m\n\u001b[0m\u001b[1;32m    550\u001b[0m \u001b[0;34m\u001b[0m\u001b[0m\n\u001b[1;32m    551\u001b[0m     \u001b[0;32mdef\u001b[0m \u001b[0mget\u001b[0m\u001b[0;34m(\u001b[0m\u001b[0mself\u001b[0m\u001b[0;34m)\u001b[0m\u001b[0;34m:\u001b[0m\u001b[0;34m\u001b[0m\u001b[0;34m\u001b[0m\u001b[0m\n",
      "\u001b[0;32m~/anaconda3/lib/python3.7/site-packages/joblib/parallel.py\u001b[0m in \u001b[0;36m__call__\u001b[0;34m(self)\u001b[0m\n\u001b[1;32m    223\u001b[0m         \u001b[0;32mwith\u001b[0m \u001b[0mparallel_backend\u001b[0m\u001b[0;34m(\u001b[0m\u001b[0mself\u001b[0m\u001b[0;34m.\u001b[0m\u001b[0m_backend\u001b[0m\u001b[0;34m,\u001b[0m \u001b[0mn_jobs\u001b[0m\u001b[0;34m=\u001b[0m\u001b[0mself\u001b[0m\u001b[0;34m.\u001b[0m\u001b[0m_n_jobs\u001b[0m\u001b[0;34m)\u001b[0m\u001b[0;34m:\u001b[0m\u001b[0;34m\u001b[0m\u001b[0;34m\u001b[0m\u001b[0m\n\u001b[1;32m    224\u001b[0m             return [func(*args, **kwargs)\n\u001b[0;32m--> 225\u001b[0;31m                     for func, args, kwargs in self.items]\n\u001b[0m\u001b[1;32m    226\u001b[0m \u001b[0;34m\u001b[0m\u001b[0m\n\u001b[1;32m    227\u001b[0m     \u001b[0;32mdef\u001b[0m \u001b[0m__len__\u001b[0m\u001b[0;34m(\u001b[0m\u001b[0mself\u001b[0m\u001b[0;34m)\u001b[0m\u001b[0;34m:\u001b[0m\u001b[0;34m\u001b[0m\u001b[0;34m\u001b[0m\u001b[0m\n",
      "\u001b[0;32m~/anaconda3/lib/python3.7/site-packages/joblib/parallel.py\u001b[0m in \u001b[0;36m<listcomp>\u001b[0;34m(.0)\u001b[0m\n\u001b[1;32m    223\u001b[0m         \u001b[0;32mwith\u001b[0m \u001b[0mparallel_backend\u001b[0m\u001b[0;34m(\u001b[0m\u001b[0mself\u001b[0m\u001b[0;34m.\u001b[0m\u001b[0m_backend\u001b[0m\u001b[0;34m,\u001b[0m \u001b[0mn_jobs\u001b[0m\u001b[0;34m=\u001b[0m\u001b[0mself\u001b[0m\u001b[0;34m.\u001b[0m\u001b[0m_n_jobs\u001b[0m\u001b[0;34m)\u001b[0m\u001b[0;34m:\u001b[0m\u001b[0;34m\u001b[0m\u001b[0;34m\u001b[0m\u001b[0m\n\u001b[1;32m    224\u001b[0m             return [func(*args, **kwargs)\n\u001b[0;32m--> 225\u001b[0;31m                     for func, args, kwargs in self.items]\n\u001b[0m\u001b[1;32m    226\u001b[0m \u001b[0;34m\u001b[0m\u001b[0m\n\u001b[1;32m    227\u001b[0m     \u001b[0;32mdef\u001b[0m \u001b[0m__len__\u001b[0m\u001b[0;34m(\u001b[0m\u001b[0mself\u001b[0m\u001b[0;34m)\u001b[0m\u001b[0;34m:\u001b[0m\u001b[0;34m\u001b[0m\u001b[0;34m\u001b[0m\u001b[0m\n",
      "\u001b[0;32m~/anaconda3/lib/python3.7/site-packages/sklearn/linear_model/logistic.py\u001b[0m in \u001b[0;36m_logistic_regression_path\u001b[0;34m(X, y, pos_class, Cs, fit_intercept, max_iter, tol, verbose, solver, coef, class_weight, dual, penalty, intercept_scaling, multi_class, random_state, check_input, max_squared_sum, sample_weight, l1_ratio)\u001b[0m\n\u001b[1;32m    952\u001b[0m             \u001b[0margs\u001b[0m \u001b[0;34m=\u001b[0m \u001b[0;34m(\u001b[0m\u001b[0mX\u001b[0m\u001b[0;34m,\u001b[0m \u001b[0mtarget\u001b[0m\u001b[0;34m,\u001b[0m \u001b[0;36m1.\u001b[0m \u001b[0;34m/\u001b[0m \u001b[0mC\u001b[0m\u001b[0;34m,\u001b[0m \u001b[0msample_weight\u001b[0m\u001b[0;34m)\u001b[0m\u001b[0;34m\u001b[0m\u001b[0;34m\u001b[0m\u001b[0m\n\u001b[1;32m    953\u001b[0m             w0, n_iter_i = newton_cg(hess, func, grad, w0, args=args,\n\u001b[0;32m--> 954\u001b[0;31m                                      maxiter=max_iter, tol=tol)\n\u001b[0m\u001b[1;32m    955\u001b[0m         \u001b[0;32melif\u001b[0m \u001b[0msolver\u001b[0m \u001b[0;34m==\u001b[0m \u001b[0;34m'liblinear'\u001b[0m\u001b[0;34m:\u001b[0m\u001b[0;34m\u001b[0m\u001b[0;34m\u001b[0m\u001b[0m\n\u001b[1;32m    956\u001b[0m             coef_, intercept_, n_iter_i, = _fit_liblinear(\n",
      "\u001b[0;32m~/anaconda3/lib/python3.7/site-packages/sklearn/utils/optimize.py\u001b[0m in \u001b[0;36mnewton_cg\u001b[0;34m(grad_hess, func, grad, x0, args, tol, maxiter, maxinner, line_search, warn)\u001b[0m\n\u001b[1;32m    191\u001b[0m                 \u001b[0malphak\u001b[0m\u001b[0;34m,\u001b[0m \u001b[0mfc\u001b[0m\u001b[0;34m,\u001b[0m \u001b[0mgc\u001b[0m\u001b[0;34m,\u001b[0m \u001b[0mold_fval\u001b[0m\u001b[0;34m,\u001b[0m \u001b[0mold_old_fval\u001b[0m\u001b[0;34m,\u001b[0m \u001b[0mgfkp1\u001b[0m \u001b[0;34m=\u001b[0m\u001b[0;31m \u001b[0m\u001b[0;31m\\\u001b[0m\u001b[0;34m\u001b[0m\u001b[0;34m\u001b[0m\u001b[0m\n\u001b[1;32m    192\u001b[0m                     _line_search_wolfe12(func, grad, xk, xsupi, fgrad,\n\u001b[0;32m--> 193\u001b[0;31m                                          old_fval, old_old_fval, args=args)\n\u001b[0m\u001b[1;32m    194\u001b[0m             \u001b[0;32mexcept\u001b[0m \u001b[0m_LineSearchError\u001b[0m\u001b[0;34m:\u001b[0m\u001b[0;34m\u001b[0m\u001b[0;34m\u001b[0m\u001b[0m\n\u001b[1;32m    195\u001b[0m                 \u001b[0mwarnings\u001b[0m\u001b[0;34m.\u001b[0m\u001b[0mwarn\u001b[0m\u001b[0;34m(\u001b[0m\u001b[0;34m'Line Search failed'\u001b[0m\u001b[0;34m)\u001b[0m\u001b[0;34m\u001b[0m\u001b[0;34m\u001b[0m\u001b[0m\n",
      "\u001b[0;32m~/anaconda3/lib/python3.7/site-packages/sklearn/utils/optimize.py\u001b[0m in \u001b[0;36m_line_search_wolfe12\u001b[0;34m(f, fprime, xk, pk, gfk, old_fval, old_old_fval, **kwargs)\u001b[0m\n\u001b[1;32m     40\u001b[0m     ret = line_search_wolfe1(f, fprime, xk, pk, gfk,\n\u001b[1;32m     41\u001b[0m                              \u001b[0mold_fval\u001b[0m\u001b[0;34m,\u001b[0m \u001b[0mold_old_fval\u001b[0m\u001b[0;34m,\u001b[0m\u001b[0;34m\u001b[0m\u001b[0;34m\u001b[0m\u001b[0m\n\u001b[0;32m---> 42\u001b[0;31m                              **kwargs)\n\u001b[0m\u001b[1;32m     43\u001b[0m \u001b[0;34m\u001b[0m\u001b[0m\n\u001b[1;32m     44\u001b[0m     \u001b[0;32mif\u001b[0m \u001b[0mret\u001b[0m\u001b[0;34m[\u001b[0m\u001b[0;36m0\u001b[0m\u001b[0;34m]\u001b[0m \u001b[0;32mis\u001b[0m \u001b[0;32mNone\u001b[0m\u001b[0;34m:\u001b[0m\u001b[0;34m\u001b[0m\u001b[0;34m\u001b[0m\u001b[0m\n",
      "\u001b[0;32m~/anaconda3/lib/python3.7/site-packages/scipy/optimize/linesearch.py\u001b[0m in \u001b[0;36mline_search_wolfe1\u001b[0;34m(f, fprime, xk, pk, gfk, old_fval, old_old_fval, args, c1, c2, amax, amin, xtol)\u001b[0m\n\u001b[1;32m     99\u001b[0m     stp, fval, old_fval = scalar_search_wolfe1(\n\u001b[1;32m    100\u001b[0m             \u001b[0mphi\u001b[0m\u001b[0;34m,\u001b[0m \u001b[0mderphi\u001b[0m\u001b[0;34m,\u001b[0m \u001b[0mold_fval\u001b[0m\u001b[0;34m,\u001b[0m \u001b[0mold_old_fval\u001b[0m\u001b[0;34m,\u001b[0m \u001b[0mderphi0\u001b[0m\u001b[0;34m,\u001b[0m\u001b[0;34m\u001b[0m\u001b[0;34m\u001b[0m\u001b[0m\n\u001b[0;32m--> 101\u001b[0;31m             c1=c1, c2=c2, amax=amax, amin=amin, xtol=xtol)\n\u001b[0m\u001b[1;32m    102\u001b[0m \u001b[0;34m\u001b[0m\u001b[0m\n\u001b[1;32m    103\u001b[0m     \u001b[0;32mreturn\u001b[0m \u001b[0mstp\u001b[0m\u001b[0;34m,\u001b[0m \u001b[0mfc\u001b[0m\u001b[0;34m[\u001b[0m\u001b[0;36m0\u001b[0m\u001b[0;34m]\u001b[0m\u001b[0;34m,\u001b[0m \u001b[0mgc\u001b[0m\u001b[0;34m[\u001b[0m\u001b[0;36m0\u001b[0m\u001b[0;34m]\u001b[0m\u001b[0;34m,\u001b[0m \u001b[0mfval\u001b[0m\u001b[0;34m,\u001b[0m \u001b[0mold_fval\u001b[0m\u001b[0;34m,\u001b[0m \u001b[0mgval\u001b[0m\u001b[0;34m[\u001b[0m\u001b[0;36m0\u001b[0m\u001b[0;34m]\u001b[0m\u001b[0;34m\u001b[0m\u001b[0;34m\u001b[0m\u001b[0m\n",
      "\u001b[0;32m~/anaconda3/lib/python3.7/site-packages/scipy/optimize/linesearch.py\u001b[0m in \u001b[0;36mscalar_search_wolfe1\u001b[0;34m(phi, derphi, phi0, old_phi0, derphi0, c1, c2, amax, amin, xtol)\u001b[0m\n\u001b[1;32m    173\u001b[0m             \u001b[0malpha1\u001b[0m \u001b[0;34m=\u001b[0m \u001b[0mstp\u001b[0m\u001b[0;34m\u001b[0m\u001b[0;34m\u001b[0m\u001b[0m\n\u001b[1;32m    174\u001b[0m             \u001b[0mphi1\u001b[0m \u001b[0;34m=\u001b[0m \u001b[0mphi\u001b[0m\u001b[0;34m(\u001b[0m\u001b[0mstp\u001b[0m\u001b[0;34m)\u001b[0m\u001b[0;34m\u001b[0m\u001b[0;34m\u001b[0m\u001b[0m\n\u001b[0;32m--> 175\u001b[0;31m             \u001b[0mderphi1\u001b[0m \u001b[0;34m=\u001b[0m \u001b[0mderphi\u001b[0m\u001b[0;34m(\u001b[0m\u001b[0mstp\u001b[0m\u001b[0;34m)\u001b[0m\u001b[0;34m\u001b[0m\u001b[0;34m\u001b[0m\u001b[0m\n\u001b[0m\u001b[1;32m    176\u001b[0m         \u001b[0;32melse\u001b[0m\u001b[0;34m:\u001b[0m\u001b[0;34m\u001b[0m\u001b[0;34m\u001b[0m\u001b[0m\n\u001b[1;32m    177\u001b[0m             \u001b[0;32mbreak\u001b[0m\u001b[0;34m\u001b[0m\u001b[0;34m\u001b[0m\u001b[0m\n",
      "\u001b[0;32m~/anaconda3/lib/python3.7/site-packages/scipy/optimize/linesearch.py\u001b[0m in \u001b[0;36mderphi\u001b[0;34m(s)\u001b[0m\n\u001b[1;32m     88\u001b[0m \u001b[0;34m\u001b[0m\u001b[0m\n\u001b[1;32m     89\u001b[0m     \u001b[0;32mdef\u001b[0m \u001b[0mderphi\u001b[0m\u001b[0;34m(\u001b[0m\u001b[0ms\u001b[0m\u001b[0;34m)\u001b[0m\u001b[0;34m:\u001b[0m\u001b[0;34m\u001b[0m\u001b[0;34m\u001b[0m\u001b[0m\n\u001b[0;32m---> 90\u001b[0;31m         \u001b[0mgval\u001b[0m\u001b[0;34m[\u001b[0m\u001b[0;36m0\u001b[0m\u001b[0;34m]\u001b[0m \u001b[0;34m=\u001b[0m \u001b[0mfprime\u001b[0m\u001b[0;34m(\u001b[0m\u001b[0mxk\u001b[0m \u001b[0;34m+\u001b[0m \u001b[0ms\u001b[0m\u001b[0;34m*\u001b[0m\u001b[0mpk\u001b[0m\u001b[0;34m,\u001b[0m \u001b[0;34m*\u001b[0m\u001b[0mnewargs\u001b[0m\u001b[0;34m)\u001b[0m\u001b[0;34m\u001b[0m\u001b[0;34m\u001b[0m\u001b[0m\n\u001b[0m\u001b[1;32m     91\u001b[0m         \u001b[0;32mif\u001b[0m \u001b[0mgradient\u001b[0m\u001b[0;34m:\u001b[0m\u001b[0;34m\u001b[0m\u001b[0;34m\u001b[0m\u001b[0m\n\u001b[1;32m     92\u001b[0m             \u001b[0mgc\u001b[0m\u001b[0;34m[\u001b[0m\u001b[0;36m0\u001b[0m\u001b[0;34m]\u001b[0m \u001b[0;34m+=\u001b[0m \u001b[0;36m1\u001b[0m\u001b[0;34m\u001b[0m\u001b[0;34m\u001b[0m\u001b[0m\n",
      "\u001b[0;32m~/anaconda3/lib/python3.7/site-packages/sklearn/linear_model/logistic.py\u001b[0m in \u001b[0;36m<lambda>\u001b[0;34m(x, *args)\u001b[0m\n\u001b[1;32m    920\u001b[0m         \u001b[0;32melif\u001b[0m \u001b[0msolver\u001b[0m \u001b[0;34m==\u001b[0m \u001b[0;34m'newton-cg'\u001b[0m\u001b[0;34m:\u001b[0m\u001b[0;34m\u001b[0m\u001b[0;34m\u001b[0m\u001b[0m\n\u001b[1;32m    921\u001b[0m             \u001b[0mfunc\u001b[0m \u001b[0;34m=\u001b[0m \u001b[0;32mlambda\u001b[0m \u001b[0mx\u001b[0m\u001b[0;34m,\u001b[0m \u001b[0;34m*\u001b[0m\u001b[0margs\u001b[0m\u001b[0;34m:\u001b[0m \u001b[0m_multinomial_loss\u001b[0m\u001b[0;34m(\u001b[0m\u001b[0mx\u001b[0m\u001b[0;34m,\u001b[0m \u001b[0;34m*\u001b[0m\u001b[0margs\u001b[0m\u001b[0;34m)\u001b[0m\u001b[0;34m[\u001b[0m\u001b[0;36m0\u001b[0m\u001b[0;34m]\u001b[0m\u001b[0;34m\u001b[0m\u001b[0;34m\u001b[0m\u001b[0m\n\u001b[0;32m--> 922\u001b[0;31m             \u001b[0mgrad\u001b[0m \u001b[0;34m=\u001b[0m \u001b[0;32mlambda\u001b[0m \u001b[0mx\u001b[0m\u001b[0;34m,\u001b[0m \u001b[0;34m*\u001b[0m\u001b[0margs\u001b[0m\u001b[0;34m:\u001b[0m \u001b[0m_multinomial_loss_grad\u001b[0m\u001b[0;34m(\u001b[0m\u001b[0mx\u001b[0m\u001b[0;34m,\u001b[0m \u001b[0;34m*\u001b[0m\u001b[0margs\u001b[0m\u001b[0;34m)\u001b[0m\u001b[0;34m[\u001b[0m\u001b[0;36m1\u001b[0m\u001b[0;34m]\u001b[0m\u001b[0;34m\u001b[0m\u001b[0;34m\u001b[0m\u001b[0m\n\u001b[0m\u001b[1;32m    923\u001b[0m             \u001b[0mhess\u001b[0m \u001b[0;34m=\u001b[0m \u001b[0m_multinomial_grad_hess\u001b[0m\u001b[0;34m\u001b[0m\u001b[0;34m\u001b[0m\u001b[0m\n\u001b[1;32m    924\u001b[0m         \u001b[0mwarm_start_sag\u001b[0m \u001b[0;34m=\u001b[0m \u001b[0;34m{\u001b[0m\u001b[0;34m'coef'\u001b[0m\u001b[0;34m:\u001b[0m \u001b[0mw0\u001b[0m\u001b[0;34m.\u001b[0m\u001b[0mT\u001b[0m\u001b[0;34m}\u001b[0m\u001b[0;34m\u001b[0m\u001b[0;34m\u001b[0m\u001b[0m\n",
      "\u001b[0;32m~/anaconda3/lib/python3.7/site-packages/sklearn/linear_model/logistic.py\u001b[0m in \u001b[0;36m_multinomial_loss_grad\u001b[0;34m(w, X, Y, alpha, sample_weight)\u001b[0m\n\u001b[1;32m    342\u001b[0m     grad = np.zeros((n_classes, n_features + bool(fit_intercept)),\n\u001b[1;32m    343\u001b[0m                     dtype=X.dtype)\n\u001b[0;32m--> 344\u001b[0;31m     \u001b[0mloss\u001b[0m\u001b[0;34m,\u001b[0m \u001b[0mp\u001b[0m\u001b[0;34m,\u001b[0m \u001b[0mw\u001b[0m \u001b[0;34m=\u001b[0m \u001b[0m_multinomial_loss\u001b[0m\u001b[0;34m(\u001b[0m\u001b[0mw\u001b[0m\u001b[0;34m,\u001b[0m \u001b[0mX\u001b[0m\u001b[0;34m,\u001b[0m \u001b[0mY\u001b[0m\u001b[0;34m,\u001b[0m \u001b[0malpha\u001b[0m\u001b[0;34m,\u001b[0m \u001b[0msample_weight\u001b[0m\u001b[0;34m)\u001b[0m\u001b[0;34m\u001b[0m\u001b[0;34m\u001b[0m\u001b[0m\n\u001b[0m\u001b[1;32m    345\u001b[0m     \u001b[0msample_weight\u001b[0m \u001b[0;34m=\u001b[0m \u001b[0msample_weight\u001b[0m\u001b[0;34m[\u001b[0m\u001b[0;34m:\u001b[0m\u001b[0;34m,\u001b[0m \u001b[0mnp\u001b[0m\u001b[0;34m.\u001b[0m\u001b[0mnewaxis\u001b[0m\u001b[0;34m]\u001b[0m\u001b[0;34m\u001b[0m\u001b[0;34m\u001b[0m\u001b[0m\n\u001b[1;32m    346\u001b[0m     \u001b[0mdiff\u001b[0m \u001b[0;34m=\u001b[0m \u001b[0msample_weight\u001b[0m \u001b[0;34m*\u001b[0m \u001b[0;34m(\u001b[0m\u001b[0mp\u001b[0m \u001b[0;34m-\u001b[0m \u001b[0mY\u001b[0m\u001b[0;34m)\u001b[0m\u001b[0;34m\u001b[0m\u001b[0;34m\u001b[0m\u001b[0m\n",
      "\u001b[0;32m~/anaconda3/lib/python3.7/site-packages/sklearn/linear_model/logistic.py\u001b[0m in \u001b[0;36m_multinomial_loss\u001b[0;34m(w, X, Y, alpha, sample_weight)\u001b[0m\n\u001b[1;32m    292\u001b[0m     \u001b[0mp\u001b[0m \u001b[0;34m=\u001b[0m \u001b[0msafe_sparse_dot\u001b[0m\u001b[0;34m(\u001b[0m\u001b[0mX\u001b[0m\u001b[0;34m,\u001b[0m \u001b[0mw\u001b[0m\u001b[0;34m.\u001b[0m\u001b[0mT\u001b[0m\u001b[0;34m)\u001b[0m\u001b[0;34m\u001b[0m\u001b[0;34m\u001b[0m\u001b[0m\n\u001b[1;32m    293\u001b[0m     \u001b[0mp\u001b[0m \u001b[0;34m+=\u001b[0m \u001b[0mintercept\u001b[0m\u001b[0;34m\u001b[0m\u001b[0;34m\u001b[0m\u001b[0m\n\u001b[0;32m--> 294\u001b[0;31m     \u001b[0mp\u001b[0m \u001b[0;34m-=\u001b[0m \u001b[0mlogsumexp\u001b[0m\u001b[0;34m(\u001b[0m\u001b[0mp\u001b[0m\u001b[0;34m,\u001b[0m \u001b[0maxis\u001b[0m\u001b[0;34m=\u001b[0m\u001b[0;36m1\u001b[0m\u001b[0;34m)\u001b[0m\u001b[0;34m[\u001b[0m\u001b[0;34m:\u001b[0m\u001b[0;34m,\u001b[0m \u001b[0mnp\u001b[0m\u001b[0;34m.\u001b[0m\u001b[0mnewaxis\u001b[0m\u001b[0;34m]\u001b[0m\u001b[0;34m\u001b[0m\u001b[0;34m\u001b[0m\u001b[0m\n\u001b[0m\u001b[1;32m    295\u001b[0m     \u001b[0mloss\u001b[0m \u001b[0;34m=\u001b[0m \u001b[0;34m-\u001b[0m\u001b[0;34m(\u001b[0m\u001b[0msample_weight\u001b[0m \u001b[0;34m*\u001b[0m \u001b[0mY\u001b[0m \u001b[0;34m*\u001b[0m \u001b[0mp\u001b[0m\u001b[0;34m)\u001b[0m\u001b[0;34m.\u001b[0m\u001b[0msum\u001b[0m\u001b[0;34m(\u001b[0m\u001b[0;34m)\u001b[0m\u001b[0;34m\u001b[0m\u001b[0;34m\u001b[0m\u001b[0m\n\u001b[1;32m    296\u001b[0m     \u001b[0mloss\u001b[0m \u001b[0;34m+=\u001b[0m \u001b[0;36m0.5\u001b[0m \u001b[0;34m*\u001b[0m \u001b[0malpha\u001b[0m \u001b[0;34m*\u001b[0m \u001b[0msquared_norm\u001b[0m\u001b[0;34m(\u001b[0m\u001b[0mw\u001b[0m\u001b[0;34m)\u001b[0m\u001b[0;34m\u001b[0m\u001b[0;34m\u001b[0m\u001b[0m\n",
      "\u001b[0;32m~/anaconda3/lib/python3.7/site-packages/scipy/special/_logsumexp.py\u001b[0m in \u001b[0;36mlogsumexp\u001b[0;34m(a, axis, b, keepdims, return_sign)\u001b[0m\n\u001b[1;32m    118\u001b[0m             \u001b[0msgn\u001b[0m \u001b[0;34m=\u001b[0m \u001b[0mnp\u001b[0m\u001b[0;34m.\u001b[0m\u001b[0msign\u001b[0m\u001b[0;34m(\u001b[0m\u001b[0ms\u001b[0m\u001b[0;34m)\u001b[0m\u001b[0;34m\u001b[0m\u001b[0;34m\u001b[0m\u001b[0m\n\u001b[1;32m    119\u001b[0m             \u001b[0ms\u001b[0m \u001b[0;34m*=\u001b[0m \u001b[0msgn\u001b[0m  \u001b[0;31m# /= makes more sense but we need zero -> zero\u001b[0m\u001b[0;34m\u001b[0m\u001b[0;34m\u001b[0m\u001b[0m\n\u001b[0;32m--> 120\u001b[0;31m         \u001b[0mout\u001b[0m \u001b[0;34m=\u001b[0m \u001b[0mnp\u001b[0m\u001b[0;34m.\u001b[0m\u001b[0mlog\u001b[0m\u001b[0;34m(\u001b[0m\u001b[0ms\u001b[0m\u001b[0;34m)\u001b[0m\u001b[0;34m\u001b[0m\u001b[0;34m\u001b[0m\u001b[0m\n\u001b[0m\u001b[1;32m    121\u001b[0m \u001b[0;34m\u001b[0m\u001b[0m\n\u001b[1;32m    122\u001b[0m     \u001b[0;32mif\u001b[0m \u001b[0;32mnot\u001b[0m \u001b[0mkeepdims\u001b[0m\u001b[0;34m:\u001b[0m\u001b[0;34m\u001b[0m\u001b[0;34m\u001b[0m\u001b[0m\n",
      "\u001b[0;31mKeyboardInterrupt\u001b[0m: "
     ]
    }
   ],
   "source": [
    "#Run the LRT\n",
    "chrom_names = ['Chr2', 'Chr3', 'ChrX']\n",
    "for chrom in range(3):\n",
    "    calc_P_val(chromosome=genotypes[chrom], chrom_name=chrom_names[chrom], \n",
    "               cell_phenotypes=phenotypes, coordinates=myAnalysis.paintedGenome[chrom])"
   ]
  },
  {
   "cell_type": "markdown",
   "metadata": {},
   "source": [
    "This is about what you would expect, but there is some weirdness. The Chr3 centromere doesn't show association with cluster size, but for some reason the telomeric sequence does. I think this could just be due to over sampling of an individual that has a much greater body size and with a particular genotype on it's 2L arm."
   ]
  },
  {
   "cell_type": "code",
   "execution_count": 113,
   "metadata": {
    "scrolled": false
   },
   "outputs": [
    {
     "data": {
      "image/png": "[encoded data removed]",
      "text/plain": [
       "<Figure size 432x288 with 1 Axes>"
      ]
     },
     "metadata": {
      "needs_background": "light"
     },
     "output_type": "display_data"
    },
    {
     "data": {
      "image/png": "[encoded data removed]",
      "text/plain": [
       "<Figure size 432x288 with 1 Axes>"
      ]
     },
     "metadata": {
      "needs_background": "light"
     },
     "output_type": "display_data"
    }
   ],
   "source": [
    "posteriors_file='SPARSE_SZ_0_SD_10_HMM_posteriors.npy'\n",
    "TSV_file='SZ_0_SD_10_crossovers.tsv'\n",
    "data_path = '/home/iskander/Documents/Barbash_lab/mDrive/SIM_DATA/'\n",
    "posteriors = np.load(os.path.join(data_path, posteriors_file))\n",
    "    \n",
    "cluster_pred = AgglomerativeClustering(n_clusters=None, compute_full_tree=True, distance_threshold=20, affinity='euclidean', linkage='ward').fit_predict(posteriors)\n",
    "\n",
    "#Get chr3 labels:\n",
    "P1, P2 = labels(chromosome=1,cluster_pred=cluster_pred, dataframe='/home/iskander/Documents/Barbash_lab/mDrive/SIM_DATA/SZ_0_SD_10_crossovers.tsv')\n",
    "#P1 cluster sizes\n",
    "P1_pi = get_cluster_sizes(P1)\n",
    "plot_pi(P1_pi)\n",
    "\n",
    "#P2 cluster sizes:\n",
    "P2_pi = get_cluster_sizes(P2)\n",
    "plot_pi(P2_pi)"
   ]
  },
  {
   "cell_type": "markdown",
   "metadata": {},
   "source": [
    "Here we have the distribution of cluster sizes for P1/P1 and P1/P2. We see equal bias for the cluster distributions as is expected"
   ]
  },
  {
   "cell_type": "code",
   "execution_count": 114,
   "metadata": {},
   "outputs": [],
   "source": [
    "CO_df = pd.read_csv(os.path.join(data_path, TSV_file), sep='\\t', header=None)\n",
    "true_labels = CO_df.values[:,0]"
   ]
  },
  {
   "cell_type": "code",
   "execution_count": 115,
   "metadata": {},
   "outputs": [
    {
     "data": {
      "image/png": "[encoded data removed]",
      "text/plain": [
       "<Figure size 432x288 with 1 Axes>"
      ]
     },
     "metadata": {
      "needs_background": "light"
     },
     "output_type": "display_data"
    },
    {
     "data": {
      "image/png": "[encoded data removed]",
      "text/plain": [
       "<Figure size 432x288 with 1 Axes>"
      ]
     },
     "metadata": {
      "needs_background": "light"
     },
     "output_type": "display_data"
    }
   ],
   "source": [
    "#Get chr3 labels:\n",
    "P1, P2 = labels(chromosome=1,cluster_pred=true_labels, dataframe='/home/iskander/Documents/Barbash_lab/mDrive/SIM_DATA/SZ_0_SD_10_crossovers.tsv')\n",
    "#P1 cluster sizes\n",
    "P1_pi = get_cluster_sizes(P1)\n",
    "plot_pi(P1_pi)\n",
    "\n",
    "#P2 cluster sizes:\n",
    "P2_pi = get_cluster_sizes(P2)\n",
    "plot_pi(P2_pi)"
   ]
  },
  {
   "cell_type": "markdown",
   "metadata": {},
   "source": [
    "## SZ 50 SD 0:\n"
   ]
  },
  {
   "cell_type": "code",
   "execution_count": 53,
   "metadata": {},
   "outputs": [
    {
     "name": "stdout",
     "output_type": "stream",
     "text": [
      "SNP input loaded... 2343 cells read in...\n"
     ]
    },
    {
     "ename": "ValueError",
     "evalue": "y_true and y_pred contain different number of classes 7, 8. Please provide the true labels explicitly through the labels argument. Classes found in y_true: [1 2 3 4 5 6 8]",
     "output_type": "error",
     "traceback": [
      "\u001b[0;31m---------------------------------------------------------------------------\u001b[0m",
      "\u001b[0;31mValueError\u001b[0m                                Traceback (most recent call last)",
      "\u001b[0;32m<ipython-input-53-b912bdb49f6f>\u001b[0m in \u001b[0;36m<module>\u001b[0;34m\u001b[0m\n\u001b[1;32m      5\u001b[0m \u001b[0;32mfor\u001b[0m \u001b[0mchrom\u001b[0m \u001b[0;32min\u001b[0m \u001b[0mrange\u001b[0m\u001b[0;34m(\u001b[0m\u001b[0;36m3\u001b[0m\u001b[0;34m)\u001b[0m\u001b[0;34m:\u001b[0m\u001b[0;34m\u001b[0m\u001b[0;34m\u001b[0m\u001b[0m\n\u001b[1;32m      6\u001b[0m     calc_P_val(chromosome=genotypes[chrom], chrom_name=chrom_names[chrom], \n\u001b[0;32m----> 7\u001b[0;31m                cell_phenotypes=phenotypes, coordinates=myAnalysis.paintedGenome[chrom])\n\u001b[0m",
      "\u001b[0;32m<ipython-input-51-290dda153a5c>\u001b[0m in \u001b[0;36mcalc_P_val\u001b[0;34m(chromosome, cell_phenotypes, coordinates, chrom_name)\u001b[0m\n\u001b[1;32m     27\u001b[0m     \u001b[0mp_arr\u001b[0m \u001b[0;34m=\u001b[0m \u001b[0;34m[\u001b[0m\u001b[0;34m]\u001b[0m\u001b[0;34m\u001b[0m\u001b[0;34m\u001b[0m\u001b[0m\n\u001b[1;32m     28\u001b[0m     \u001b[0;32mfor\u001b[0m \u001b[0mposition\u001b[0m \u001b[0;32min\u001b[0m \u001b[0mrange\u001b[0m\u001b[0;34m(\u001b[0m\u001b[0mchromosome\u001b[0m\u001b[0;34m.\u001b[0m\u001b[0mshape\u001b[0m\u001b[0;34m[\u001b[0m\u001b[0;36m1\u001b[0m\u001b[0;34m]\u001b[0m\u001b[0;34m)\u001b[0m\u001b[0;34m:\u001b[0m\u001b[0;34m\u001b[0m\u001b[0;34m\u001b[0m\u001b[0m\n\u001b[0;32m---> 29\u001b[0;31m         \u001b[0mp\u001b[0m \u001b[0;34m=\u001b[0m \u001b[0mmultiN_LRT\u001b[0m\u001b[0;34m(\u001b[0m\u001b[0mgenotype\u001b[0m\u001b[0;34m=\u001b[0m\u001b[0mchromosome\u001b[0m\u001b[0;34m[\u001b[0m\u001b[0;34m:\u001b[0m\u001b[0;34m,\u001b[0m\u001b[0mposition\u001b[0m\u001b[0;34m]\u001b[0m\u001b[0;34m,\u001b[0m \u001b[0mphenotype\u001b[0m\u001b[0;34m=\u001b[0m\u001b[0mcell_phenotypes\u001b[0m\u001b[0;34m)\u001b[0m\u001b[0;34m\u001b[0m\u001b[0;34m\u001b[0m\u001b[0m\n\u001b[0m\u001b[1;32m     30\u001b[0m         \u001b[0mp_arr\u001b[0m\u001b[0;34m.\u001b[0m\u001b[0mappend\u001b[0m\u001b[0;34m(\u001b[0m\u001b[0mp\u001b[0m\u001b[0;34m)\u001b[0m\u001b[0;34m\u001b[0m\u001b[0;34m\u001b[0m\u001b[0m\n\u001b[1;32m     31\u001b[0m     \u001b[0mlog_p\u001b[0m \u001b[0;34m=\u001b[0m \u001b[0;34m-\u001b[0m\u001b[0mnp\u001b[0m\u001b[0;34m.\u001b[0m\u001b[0mlog10\u001b[0m\u001b[0;34m(\u001b[0m\u001b[0mnp\u001b[0m\u001b[0;34m.\u001b[0m\u001b[0masarray\u001b[0m\u001b[0;34m(\u001b[0m\u001b[0mp_arr\u001b[0m\u001b[0;34m)\u001b[0m\u001b[0;34m)\u001b[0m\u001b[0;34m\u001b[0m\u001b[0;34m\u001b[0m\u001b[0m\n",
      "\u001b[0;32m<ipython-input-51-290dda153a5c>\u001b[0m in \u001b[0;36mmultiN_LRT\u001b[0;34m(genotype, phenotype, df)\u001b[0m\n\u001b[1;32m     17\u001b[0m         \u001b[0mnull_prob\u001b[0m\u001b[0;34m[\u001b[0m\u001b[0;34m:\u001b[0m\u001b[0;34m,\u001b[0m\u001b[0m_class\u001b[0m\u001b[0;34m-\u001b[0m\u001b[0;36m1\u001b[0m\u001b[0;34m]\u001b[0m \u001b[0;34m=\u001b[0m \u001b[0msize_table\u001b[0m\u001b[0;34m[\u001b[0m\u001b[0m_class\u001b[0m\u001b[0;34m]\u001b[0m\u001b[0;34m/\u001b[0m\u001b[0mlen\u001b[0m\u001b[0;34m(\u001b[0m\u001b[0mphenotype\u001b[0m\u001b[0;34m)\u001b[0m\u001b[0;34m\u001b[0m\u001b[0;34m\u001b[0m\u001b[0m\n\u001b[1;32m     18\u001b[0m \u001b[0;34m\u001b[0m\u001b[0m\n\u001b[0;32m---> 19\u001b[0;31m     \u001b[0mnull_log_likelihood\u001b[0m \u001b[0;34m=\u001b[0m \u001b[0mlog_loss\u001b[0m\u001b[0;34m(\u001b[0m\u001b[0my_true\u001b[0m\u001b[0;34m=\u001b[0m\u001b[0mphenotype\u001b[0m\u001b[0;34m,\u001b[0m \u001b[0my_pred\u001b[0m\u001b[0;34m=\u001b[0m\u001b[0mnull_prob\u001b[0m\u001b[0;34m,\u001b[0m \u001b[0mnormalize\u001b[0m\u001b[0;34m=\u001b[0m\u001b[0;32mFalse\u001b[0m\u001b[0;34m)\u001b[0m\u001b[0;34m\u001b[0m\u001b[0;34m\u001b[0m\u001b[0m\n\u001b[0m\u001b[1;32m     20\u001b[0m \u001b[0;34m\u001b[0m\u001b[0m\n\u001b[1;32m     21\u001b[0m     \u001b[0mL\u001b[0m \u001b[0;34m=\u001b[0m \u001b[0;34m-\u001b[0m\u001b[0;36m2\u001b[0m \u001b[0;34m*\u001b[0m \u001b[0;34m(\u001b[0m\u001b[0malt_log_likelihood\u001b[0m \u001b[0;34m-\u001b[0m \u001b[0mnull_log_likelihood\u001b[0m\u001b[0;34m)\u001b[0m\u001b[0;34m\u001b[0m\u001b[0;34m\u001b[0m\u001b[0m\n",
      "\u001b[0;32m~/anaconda3/lib/python3.7/site-packages/sklearn/metrics/classification.py\u001b[0m in \u001b[0;36mlog_loss\u001b[0;34m(y_true, y_pred, eps, normalize, sample_weight, labels)\u001b[0m\n\u001b[1;32m   2164\u001b[0m                              \"y_true: {2}\".format(transformed_labels.shape[1],\n\u001b[1;32m   2165\u001b[0m                                                   \u001b[0my_pred\u001b[0m\u001b[0;34m.\u001b[0m\u001b[0mshape\u001b[0m\u001b[0;34m[\u001b[0m\u001b[0;36m1\u001b[0m\u001b[0;34m]\u001b[0m\u001b[0;34m,\u001b[0m\u001b[0;34m\u001b[0m\u001b[0;34m\u001b[0m\u001b[0m\n\u001b[0;32m-> 2166\u001b[0;31m                                                   lb.classes_))\n\u001b[0m\u001b[1;32m   2167\u001b[0m         \u001b[0;32melse\u001b[0m\u001b[0;34m:\u001b[0m\u001b[0;34m\u001b[0m\u001b[0;34m\u001b[0m\u001b[0m\n\u001b[1;32m   2168\u001b[0m             raise ValueError('The number of classes in labels is different '\n",
      "\u001b[0;31mValueError\u001b[0m: y_true and y_pred contain different number of classes 7, 8. Please provide the true labels explicitly through the labels argument. Classes found in y_true: [1 2 3 4 5 6 8]"
     ]
    }
   ],
   "source": [
    "phenotypes, genotypes = collect_genome(posteriors_file='SPARSE_SZ_50_SD_0_HMM_posteriors.npy', TSV_file='SZ_50_SD_0_crossovers.tsv')\n",
    "\n",
    "#Run the LRT\n",
    "chrom_names = ['Chr2', 'Chr3', 'ChrX']\n",
    "for chrom in range(3):\n",
    "    calc_P_val(chromosome=genotypes[chrom], chrom_name=chrom_names[chrom], \n",
    "               cell_phenotypes=phenotypes, coordinates=myAnalysis.paintedGenome[chrom])"
   ]
  },
  {
   "cell_type": "code",
   "execution_count": 107,
   "metadata": {},
   "outputs": [
    {
     "data": {
      "image/png": "[encoded data removed]",
      "text/plain": [
       "<Figure size 432x288 with 1 Axes>"
      ]
     },
     "metadata": {
      "needs_background": "light"
     },
     "output_type": "display_data"
    },
    {
     "data": {
      "image/png": "[encoded data removed]",
      "text/plain": [
       "<Figure size 432x288 with 1 Axes>"
      ]
     },
     "metadata": {
      "needs_background": "light"
     },
     "output_type": "display_data"
    }
   ],
   "source": [
    "posteriors_file='SPARSE_SZ_50_SD_0_HMM_posteriors.npy'\n",
    "TSV_file='SZ_50_SD_0_crossovers.tsv'\n",
    "\n",
    "posteriors = np.load(os.path.join(data_path, posteriors_file))  \n",
    "cluster_pred = AgglomerativeClustering(n_clusters=None, compute_full_tree=True, distance_threshold=20, affinity='euclidean', linkage='ward').fit_predict(posteriors)\n",
    "\n",
    "#Get chr3 labels:\n",
    "P1, P2 = labels(chromosome=1, cluster_pred=cluster_pred, dataframe=os.path.join('/home/iskander/Documents/Barbash_lab/mDrive/SIM_DATA/', TSV_file))\n",
    "#P1 cluster sizes\n",
    "P1_pi = get_cluster_sizes(P1)\n",
    "plot_pi(P1_pi)\n",
    "\n",
    "#P2 cluster sizes:\n",
    "P2_pi = get_cluster_sizes(P2)\n",
    "plot_pi(P2_pi)"
   ]
  },
  {
   "cell_type": "code",
   "execution_count": null,
   "metadata": {},
   "outputs": [],
   "source": []
  }
 ],
 "metadata": {
  "kernelspec": {
   "display_name": "Python 3",
   "language": "python",
   "name": "python3"
  },
  "language_info": {
   "codemirror_mode": {
    "name": "ipython",
    "version": 3
   },
   "file_extension": ".py",
   "mimetype": "text/x-python",
   "name": "python",
   "nbconvert_exporter": "python",
   "pygments_lexer": "ipython3",
   "version": "3.7.3"
  }
 },
 "nbformat": 4,
 "nbformat_minor": 2
}
