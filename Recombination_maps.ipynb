{
 "cells": [
  {
   "cell_type": "markdown",
   "metadata": {},
   "source": [
    "# Purpose:\n",
    "\n",
    "Use this notebook to play around with making recombination maps for D mel and D vir. The goal of which is to make more flexible file formats for both situations."
   ]
  },
  {
   "cell_type": "code",
   "execution_count": 52,
   "metadata": {},
   "outputs": [],
   "source": [
    "import pandas as pd \n",
    "import numpy as np\n",
    "rmap = pd.read_csv('/home/iskander/Documents/Barbash_lab/mDrive/dmel_2xRate.rmap.bed', sep='\\t', header=None)\n",
    "def cM_map(arm):\n",
    "    \"\"\"\n",
    "        The function to map a bp coordinate to cM coordinate\n",
    "        Use this function to create maps\n",
    "\n",
    "        :param arm:\n",
    "        :return:\n",
    "    \"\"\"\n",
    "\n",
    "    chroms = ['2L', '2R', '3L', '3R', 'X']\n",
    "    cM_bins = rmap.loc[rmap[0] == chroms[arm]].values[:,1:4] #Get the bins for the selected chromosome/arm\n",
    "    get_cM = lambda x: cM_bins[np.intersect1d(np.where(x >= cM_bins[:,1]), np.where(x < cM_bins[:,2]))][0][0]\n",
    "\n",
    "\n",
    "    return get_cM"
   ]
  },
  {
   "cell_type": "code",
   "execution_count": 60,
   "metadata": {},
   "outputs": [],
   "source": [
    "def make_concatMAP(inp='/home/iskander/Documents/Barbash_lab/mDrive/dmel_2xRate.rmap.bed'):\n",
    "    rmap = pd.read_csv(inp, sep='\\t', header=None)\n",
    "\n",
    "    chr2 = np.vstack((rmap.loc[rmap[0] == '2L'].values[:,1:4], \n",
    "                      np.column_stack((rmap.loc[rmap[0] == '2R'].values[:,1], rmap.loc[rmap[0] == '2R'].values[:,2:4]+23)) \n",
    "                     ))\n",
    "\n",
    "    arm = np.asarray(['2' for p  in range(len(chr2[:,0]))])\n",
    "    chr2 = np.column_stack((arm, chr2))\n",
    "    chr3 = np.vstack((rmap.loc[rmap[0] == '3L'].values[:,1:4], \n",
    "                      np.column_stack((rmap.loc[rmap[0] == '3R'].values[:,1], rmap.loc[rmap[0] == '3R'].values[:,2:4]+24.5))))\n",
    "    arm = np.asarray(['3' for p  in range(len(chr3[:,0]))])\n",
    "\n",
    "    chr3 = np.column_stack((arm, chr3))\n",
    "\n",
    "    chrx = rmap.loc[rmap[0] == 'X'].values[:,0:4]\n",
    "\n",
    "    new_rmap = np.vstack((chr2, chr3, chrx))\n",
    "    df = pd.DataFrame(new_rmap)\n",
    "    df.to_csv(path_or_buf='/home/iskander/Documents/Barbash_lab/mDrive/dmel_rmap2x.concat.bed', sep='\\t', \n",
    "                       columns=df,header=False, index=False)"
   ]
  },
  {
   "cell_type": "code",
   "execution_count": null,
   "metadata": {},
   "outputs": [],
   "source": []
  }
 ],
 "metadata": {
  "kernelspec": {
   "display_name": "Python 3",
   "language": "python",
   "name": "python3"
  },
  "language_info": {
   "codemirror_mode": {
    "name": "ipython",
    "version": 3
   },
   "file_extension": ".py",
   "mimetype": "text/x-python",
   "name": "python",
   "nbconvert_exporter": "python",
   "pygments_lexer": "ipython3",
   "version": "3.7.3"
  }
 },
 "nbformat": 4,
 "nbformat_minor": 2
}
